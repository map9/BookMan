{
 "cells": [
  {
   "cell_type": "code",
   "execution_count": 1,
   "id": "10fb94f1-3f72-46e4-ac17-45d30c1378b5",
   "metadata": {
    "tags": []
   },
   "outputs": [],
   "source": [
    "import os\n",
    "import re\n",
    "import json\n",
    "import logging\n",
    "\n",
    "#logging.basicConfig(filename='booksearch.log', encoding='utf-8', level=logging.DEBUG)\n",
    "logging.basicConfig(level=logging.WARNING, format='%(asctime)s (levelname)s: %(message)s', datefmt='%Y/%m/%d %I:%M:%S %p', force=True)"
   ]
  },
  {
   "cell_type": "code",
   "execution_count": 2,
   "id": "ed9d6879-cf3f-44e4-8f6d-f58e0402341b",
   "metadata": {},
   "outputs": [],
   "source": [
    "# 对带小括号的字符串解码\n",
    "# reference from: stackoverflow.com/questions/14952113/how-can-i-match-nested-brackets-using-regex\n",
    "def parse_to_list(s, i=0):\n",
    "    result = []\n",
    "    while i < len(s):\n",
    "        if s[i] == '(':\n",
    "            i, r = parse_to_list(s, i+1)\n",
    "            result.append(r)\n",
    "        elif s[i] == ')':\n",
    "            return i+1, result\n",
    "        else:\n",
    "            result.append(s[i])\n",
    "            i += 1\n",
    "    return i, result"
   ]
  },
  {
   "cell_type": "code",
   "execution_count": 3,
   "id": "d62c2345-737b-44de-9fd7-cb9411c2017d",
   "metadata": {},
   "outputs": [],
   "source": [
    "# 对带小括号的字符串解码为嵌套的list\n",
    "def parse_nestedbrackets_to_list(s, i = 0, level = 0):\n",
    "    result = []\n",
    "    content = ''\n",
    "    while i < len(s):\n",
    "        if s[i] == '(':\n",
    "            if len(content):\n",
    "                logging.debug(f\"L{level}, {content}\")\n",
    "                result.append(content)\n",
    "                content = ''\n",
    "                \n",
    "            i, r, level = parse_nestedbrackets_to_list(s, i + 1, level + 1)\n",
    "            result.append(r)\n",
    "            \n",
    "        elif s[i] == ')':\n",
    "            if len(content):\n",
    "                logging.debug(f\"L{level}, {content}\")\n",
    "                result.append(content)\n",
    "            return i+1, result, level - 1\n",
    "        else:\n",
    "            content += s[i]\n",
    "            i += 1\n",
    "            logging.debug(f\"L{level}, {content}\")\n",
    "\n",
    "    if len(content):\n",
    "        logging.debug(f\"L{level}, {content}\")\n",
    "        result.append(content)\n",
    "        content = ''\n",
    "        \n",
    "    return i, result, level"
   ]
  },
  {
   "cell_type": "code",
   "execution_count": 4,
   "id": "9e49c508-52c7-4f11-8190-3e45c8ebfb40",
   "metadata": {},
   "outputs": [
    {
     "data": {
      "text/plain": [
       "(74,\n",
       " ['h or ',\n",
       "  ['a and ', ['b or c and not ', ['f or g']]],\n",
       "  ' and ',\n",
       "  ['not e'],\n",
       "  ' or k or j and ',\n",
       "  ['i and m']],\n",
       " 0)"
      ]
     },
     "execution_count": 4,
     "metadata": {},
     "output_type": "execute_result"
    }
   ],
   "source": [
    "# 测试嵌套括号的解码\n",
    "text = \"(大人 or 小人) and not 君子\"\n",
    "text = \"h or (a and (b or c and not (f or g))) and (not e) or k or j and (i and m)\"\n",
    "#text = \"a and and b or c\"\n",
    "parse_nestedbrackets_to_list(text)"
   ]
  },
  {
   "cell_type": "code",
   "execution_count": 5,
   "id": "815d88ab-5a7b-4737-b1eb-119d9b1c9bb9",
   "metadata": {
    "tags": []
   },
   "outputs": [],
   "source": [
    "def judgeCondition(conditiona, conditionb, operator):\n",
    "    \"\"\"\n",
    "    给出两个条件的结果\n",
    "    \"\"\"\n",
    "    assert conditiona is not None or conditionb is not None\n",
    "    if conditiona is None and conditionb is not None:\n",
    "        return conditionb\n",
    "    if conditionb is None and conditiona is not None:\n",
    "        return conditiona\n",
    "    \n",
    "    assert operator == 'AND' or operator == 'OR'\n",
    "    if operator == 'AND':\n",
    "        return conditiona and conditionb\n",
    "    elif operator == 'OR':\n",
    "        return conditiona or conditionb\n",
    "    else:\n",
    "        logging.error(f\"Error in A: {conditiona}, B: {conditionb}, operator: {operator}.\")"
   ]
  },
  {
   "cell_type": "code",
   "execution_count": 6,
   "id": "34eebed3-c0d3-4bdf-a3f2-cc7977f3c04c",
   "metadata": {
    "tags": []
   },
   "outputs": [],
   "source": [
    "def _excuteQuery2(query, cobject, last_condition=None, operator=None, not_operator=False, level = 0):\n",
    "    \"\"\"\n",
    "    执行不嵌套的查询语句，这个查询语句的前一个条件，如有，则为last\n",
    "    operator = AND | OR | NOT | AND + NOT | OR + NOT\n",
    "    query one = condition + operator + [query one]\n",
    "    query two = operator\n",
    "    query three = operator + condition + [query two | query three]\n",
    "    NOTE: 应该处理当条件已经变成FALSE后，就不应该在往下处理。\n",
    "    \"\"\"\n",
    "    operator = operator\n",
    "    not_operator = not_operator\n",
    "    last_condition = last_condition\n",
    "    result = last_condition\n",
    "    condition = None\n",
    "    for index, word in enumerate(query):\n",
    "        if len(word) == 0:\n",
    "            continue\n",
    "        upper_word = word.upper()\n",
    "        if upper_word == 'AND' or upper_word == 'OR':\n",
    "            operator = upper_word\n",
    "        elif upper_word == 'NOT':\n",
    "            not_operator = True\n",
    "        else:\n",
    "            match = [m.start() for m in re.finditer(word, cobject['content'])]\n",
    "            condition = True if len(match) else False\n",
    "\n",
    "            if not_operator:\n",
    "                condition = not condition\n",
    "                not_operator = False\n",
    "            if last_condition is not None:\n",
    "                result = judgeCondition(last_condition, condition, operator)\n",
    "                operator = None\n",
    "                last_condition = result\n",
    "            else:\n",
    "                last_condition = condition\n",
    "                condition = None\n",
    "        logging.debug(f\"{'': <{level*2}}{index}: {word}, A: {last_condition}, B: {condition}, operator: {operator}, not: {not_operator}.\")\n",
    "    return last_condition, operator, not_operator"
   ]
  },
  {
   "cell_type": "code",
   "execution_count": 7,
   "id": "6c89ba8d-9dfe-4d8c-902b-9e1cdadd6c1e",
   "metadata": {
    "tags": []
   },
   "outputs": [],
   "source": [
    "def _excuteQuery(querylist, cobject, last_condition = None, operator = None, not_operator = False, level = 0):\n",
    "    \"\"\"\n",
    "    执行嵌套的查询语句。\n",
    "    querylist为parse_nestedbrackets_to_list获得的结果。\n",
    "    \"\"\"\n",
    "    last_condition = last_condition\n",
    "    operator = operator\n",
    "    not_operator = not_operator\n",
    "    level = level\n",
    "    for q in querylist:\n",
    "        if isinstance(q, list):\n",
    "            logging.debug(f\"{'': <{level*2}}L{level}, sub-query begin: {q}\")\n",
    "            sub_last_condition, sub_operator, sub_not_operator, _ = _excuteQuery(q, cobject, last_condition = None, operator = None, not_operator = False, level = level + 1)\n",
    "\n",
    "            if not_operator:\n",
    "                sub_last_condition = not sub_last_condition\n",
    "            not_operator = sub_not_operator\n",
    "            if last_condition is not None:\n",
    "                result = judgeCondition(last_condition, sub_last_condition, operator)\n",
    "                operator = sub_operator\n",
    "                last_condition = result\n",
    "            else:\n",
    "                last_condition = sub_last_condition\n",
    "            logging.debug(f\"{'': <{level*2}}L{level}, sub-query end: L: {last_condition}, operator: {operator}, not: {not_operator}.\")\n",
    "        else:\n",
    "            result = q.split(\" \")  # 以空格为分隔符分割字符串 \"apple banana cherry\"\n",
    "            logging.debug(f\"{'': <{level*2}}L{level}, query begin: \" + \"/\".join(result)) # 输出结果为 ['apple', 'banana', 'cherry']\n",
    "            last_condition, operator, not_operator = _excuteQuery2(result, cobject, last_condition = last_condition, operator = operator, not_operator = not_operator, level = level)\n",
    "            logging.debug(f\"{'': <{level*2}}L{level}, query end: L: {last_condition}, operator: {operator}, not: {not_operator}.\")\n",
    "            \n",
    "    return last_condition, operator, not_operator, level"
   ]
  },
  {
   "cell_type": "code",
   "execution_count": 8,
   "id": "7161527e-60c9-4f2a-97ec-c395e3122c17",
   "metadata": {
    "tags": []
   },
   "outputs": [],
   "source": [
    "# query: \"(content:大人 or content:小人) and not content:君子\"\n",
    "# cobject: {\n",
    "#     'book_title': book_title,\n",
    "#     'volume_title': volume_title,\n",
    "#     'chapter_title': chapter_title,\n",
    "#     'content': content\n",
    "# }\n",
    "def excuteQuery(query, cobject):\n",
    "    _, querylist, _ = parse_nestedbrackets_to_list(query)\n",
    "    result, _, _, _ = _excuteQuery(querylist, cobject)\n",
    "        \n",
    "    return result"
   ]
  },
  {
   "cell_type": "code",
   "execution_count": 9,
   "id": "fa32a353-9f83-4802-b363-d379e97a72c6",
   "metadata": {},
   "outputs": [
    {
     "data": {
      "text/plain": [
       "False"
      ]
     },
     "execution_count": 9,
     "metadata": {},
     "output_type": "execute_result"
    }
   ],
   "source": [
    "# 测试 excuteQuery\n",
    "cobject = {\n",
    "    'book_title': '',\n",
    "    'volume_title': '',\n",
    "    'chapter_title': '',\n",
    "    'content': \"天之爱人也，薄于圣人之爱人也；其利人也，厚于圣人之利人也。大人之爱小人也，薄于小人之爱大人也；其利小人也，厚于小人之利大人也。以臧为其亲也，而爱之，非爱其亲也；以臧为其亲也，而利之，非利其亲也。以乐为爱其子，而为其子欲之，爱其子也。以乐为利其子，而为其子求之，非利其子也。\"\n",
    "    #'content': \"密云不雨，君子\"\n",
    "    #'content': \"太公曰：“臣闻君子乐得其志，小人乐得其事。今吾渔甚有似也，殆非乐之也。”\"\n",
    "}\n",
    "\n",
    "query = \"((大人 or 小人) and (not 君子)) or 密云不雨\"\n",
    "#query = \"(not 君子)\"\n",
    "#query = \"大人\"\n",
    "#query = \"not (大人 or 小人) and (君子)\"\n",
    "query = \" 君子 and not (大人 or 小人)\"\n",
    "\n",
    "result = excuteQuery(query, cobject)\n",
    "#result = _excuteQuery2([\"大人\",\"and\",\"中人\"], cobject)\n",
    "result"
   ]
  },
  {
   "cell_type": "code",
   "execution_count": 10,
   "id": "d7448f1d-88e2-4828-abe3-7fea1c7bee76",
   "metadata": {},
   "outputs": [],
   "source": [
    "def querybook(filename, querylist, booklist, include):\n",
    "    \n",
    "    #print(filename)\n",
    "    pieces = []\n",
    "    with open(filename, 'r', encoding='utf-8') as file:\n",
    "        book = json.load(file);\n",
    "        book_title = book[\"title\"]\n",
    "        if booklist is not None:\n",
    "            bookin = True if book_title in booklist else False\n",
    "            if (bookin == True and include == False) or (bookin == False and include == True):\n",
    "                logging.info(f\"pass《{book_title}》...\")\n",
    "                return pieces, False\n",
    "                \n",
    "        description = book[\"description\"]\n",
    "        logging.info(f\"search in《{book_title}》...\")\n",
    "        for volume in book[\"volumes\"]:\n",
    "            volume_title = volume[\"title\"]\n",
    "            for chapter in volume[\"chapters\"]:\n",
    "                chapter_title = chapter[\"title\"]                \n",
    "                if (chapter.get(\"paragraphs\")):\n",
    "                    for paragraph in chapter[\"paragraphs\"]:\n",
    "                        content = paragraph[\"content\"]\n",
    "                        cobject = {\n",
    "                            'book_title': book_title,\n",
    "                            'volume_title': volume_title,\n",
    "                            'chapter_title': chapter_title,\n",
    "                            'content': content\n",
    "                        }\n",
    "                        result, _, _, _ = _excuteQuery(querylist, cobject)\n",
    "                        if result == True:\n",
    "                            pieces.append(cobject)\n",
    "        return pieces, True"
   ]
  },
  {
   "cell_type": "code",
   "execution_count": 11,
   "id": "e10a634d-143a-46e1-becf-627481177c97",
   "metadata": {
    "tags": []
   },
   "outputs": [],
   "source": [
    "import concurrent.futures\n",
    "def querybooks(bookspath, query, books, limit = 10):\n",
    "    # 解析 books.json 文件\n",
    "    filenames = os.listdir(bookspath)\n",
    "    filenames.sort()\n",
    "    filenames = [f\"{bookspath}/{filename}\" for filename in filenames if filename.endswith(\".json\")]\n",
    "    \n",
    "    total_pieces = []\n",
    "    _, querylist, _ = parse_nestedbrackets_to_list(query)\n",
    "    \n",
    "    include = None\n",
    "    booklist = None\n",
    "    if len(books) > 0 and (books is not None):\n",
    "        if books[0] == '+':\n",
    "            include = True\n",
    "        elif books[0] == '-':\n",
    "            include = False\n",
    "        booklist = books[1:].split(\",\")\n",
    "            \n",
    "    # 非多线程方式\n",
    "    #for filename in filenames:\n",
    "    #    pieces = querybook(filename, querylist)\n",
    "    #    total_pieces = total_pieces + pieces\n",
    "\n",
    "    # 多线程方式\n",
    "    # 使用 ThreadPoolExecutor 对每个book的搜索启动一个线程进行处理\n",
    "    search_book_count = 0\n",
    "    with concurrent.futures.ThreadPoolExecutor(max_workers = 10, thread_name_prefix='s_thread') as executor:\n",
    "        futures = [executor.submit(lambda p: querybook(*p), (filename, querylist, booklist, include)) for filename in filenames]\n",
    "        # 等待每个线程执行完毕\n",
    "        for future in concurrent.futures.as_completed(futures):\n",
    "            pieces, search = future.result()\n",
    "            total_pieces = total_pieces + pieces #非线程安全\n",
    "            search_book_count = search_book_count + 1 if search == True else search_book_count\n",
    "     \n",
    "    if limit is not None:\n",
    "        return total_pieces[:10], len(total_pieces), search_book_count\n",
    "    else:\n",
    "        return total_pieces, len(total_pieces), search_book_count"
   ]
  },
  {
   "cell_type": "code",
   "execution_count": 12,
   "id": "f9191ff4-fbae-472a-8c08-985b429a7b63",
   "metadata": {
    "tags": []
   },
   "outputs": [],
   "source": [
    "bookspath = \"/Users/sunyafu/zebra/YIJING/Books/ready\""
   ]
  },
  {
   "cell_type": "code",
   "execution_count": 13,
   "id": "0b914c24-d36c-4906-a387-f28ee6201025",
   "metadata": {},
   "outputs": [],
   "source": [
    "def output(results):\n",
    "    for index, result in enumerate(results):\n",
    "        if len(result['volume_title']):\n",
    "            print(f\"{index}. {result['book_title']} {result['volume_title']}·{result['chapter_title']}\")\n",
    "        else:\n",
    "            print(f\"{index}. {result['book_title']} {result['chapter_title']}\")\n",
    "        #print(f\"... {result.highlights('content')} ...\\n\")\n",
    "        print(f\"... {result['content']} ...\\n\") "
   ]
  },
  {
   "cell_type": "code",
   "execution_count": 14,
   "id": "9a779e15-e637-4dd7-a63e-eabeaf1803d2",
   "metadata": {},
   "outputs": [],
   "source": [
    "def output_markdown(results):\n",
    "    if len(results) == 0:\n",
    "        return\n",
    "    \n",
    "    print(\"|NO|所在书籍|所在章节|所在段落|\")\n",
    "    print(\"|--|--|--|--|\")\n",
    "    \n",
    "    for index, result in enumerate(results):\n",
    "        if len(result['volume_title']):\n",
    "            print(f\"|{index}|{result['book_title']}|{result['volume_title']}·{result['chapter_title']}|{result['content']}|\")\n",
    "        else:\n",
    "            print(f\"|{index}|{result['book_title']}|{result['chapter_title']}|{result['content']}|\")"
   ]
  },
  {
   "cell_type": "code",
   "execution_count": 43,
   "id": "d5ff02e4-e9f1-42fa-9bb9-d0024dcf112c",
   "metadata": {
    "tags": []
   },
   "outputs": [
    {
     "name": "stdout",
     "output_type": "stream",
     "text": [
      "搜索48本书籍，一共发现45个结果。\n",
      "\n",
      "|NO|所在书籍|所在章节|所在段落|\n",
      "|--|--|--|--|\n",
      "|0|仪礼|士丧礼|君若有赐焉，则视敛。既布衣，君至，主人出迎于外门外，见马首，不哭，还，入门右，北面，及众主人袒。巫止于庙门外，祝代之。小臣二人执戈先，二人后。君释采，入门，主人辟。君升自阼阶，西乡。祝负墉，南面，主人中庭。君哭。主人哭，拜稽颡，成踊，出。君命反行事，主人复位。君升主人，主人西楹东，北面。升公卿大夫，继主人，东上。乃敛。卒，公卿大夫逆降，复位。主人降，出。君反主人，主人中庭。君坐抚，当心。主人拜稽颡，成踊，出。君反之，复初位。众主人辟于东壁，南面。君降，西乡，命主人冯尸。主人升自西阶，由足，西面冯尸，不当君所，踊。主妇东面冯，亦如之。奉尸敛于棺，乃盖，主人降，出。君反之，入门左，视涂。君升即位，众主人复位，卒涂，主人出，君命之反奠。入门右，乃奠，升自西阶。君要节而踊，主人从踊。卒奠，主人出，哭者止。君出门，庙中哭。主人不哭，辟。君式之。贰车毕乘，主人哭，拜送。袭，入即位，众主人袭，拜大夫之后至者，成踊。宾出，主人拜送。|\n",
      "|1|吕氏春秋|纪·季冬纪|五曰：天下轻於身，而士以身为人。以身为人者，如此其重也，而人不知，以奚道相得？贤主必自知士，故士尽力竭智，直言交争，而不辞其患。豫让、公孙弘是矣。当是时也，智伯、孟尝君知之矣。世之人主，得地百里则喜，四境皆贺；得士则不喜，不知相贺：不通乎轻重也。汤、武，千乘也，而士皆归之。桀、纣，天子也，而士皆去之。孔、墨，布衣之士也，万乘之主、千乘之君不能与之争士也。自此观之，尊贵富大不足以来士矣，必自知之然後可。|\n",
      "|2|吕氏春秋|览·孝行览|三曰：圣人之於事，似缓而急，似迟而速，以待时。王季历困而死，文王苦之，有不忘羑里之丑，时未可也。武王事之，夙夜不懈，亦不忘王门之辱。立十二年，而成甲子之事。时固不易得。太公望，东夷之士也，欲定一世而无其主。闻文王贤，故钓於渭以观之。伍子胥欲见吴王而不得，客有言之於王子光者，见之而恶其貌，不听其说而辞之。客请之王子光，王子光曰：“其貌适吾所甚恶也。” 客以闻伍子胥，伍子胥曰：“此易故也。愿令王子居於堂上，重帷而见其衣若手，请因说之。”王子许。伍子胥说之半，王子光举帷，搏其手而与之坐；说毕，王子光大说。伍子胥以为有吴国者，必王子光也，退而耕于野。七年，王子光代吴王僚为王。任子胥，子胥乃修法制，下贤良，选练士，习战斗。六年，然後大胜楚于柏举。九战九胜，追北千里。昭王出奔随，遂有郢。亲射王宫，鞭荆平之坟三百。乡之耕，非忘其父之雠也，待时也。墨者有田鸠，欲见秦惠王，留秦三年而弗得见。客有言之於楚王者，往见楚王。楚王说之，与将军之节以如秦。至，因见惠王。告人曰：“之秦之道，乃之楚乎？”固有近之而远、远之而近者。时亦然。有汤武之贤，而无桀纣之时，不成；有桀纣之时，而无汤武之贤，亦不成。圣人之见时，若步之与影不可离。故有道之士未遇时，隐匿分窜，勤以待时。时至，有从布衣而为天子者，有从千乘而得天下者，有从卑贱而佐三王者，有从匹夫而报万乘者。|\n",
      "|3|吕氏春秋|览·慎大览|贤主则不然。士虽骄之，而己愈礼之，士安得不归之？士所归，天下从之帝。帝也者，天下之适也；王也者，天下之往也。得道之人，贵为天子而不骄倨，富有天下而不骋夸，卑为布衣而不瘁摄，贫无衣食而不忧慑。恳乎其诚自有也，觉乎其不疑有以也，桀乎其必不渝移也，循乎其与阴阳化也，匆匆乎其心之坚固也，空空乎其不为巧故也，迷乎其志气之远也，昏乎其深而不测也，确乎其节之不庳也，就就乎其不肯自是，鹄乎其羞用智虑也，假乎其轻俗诽誉也。以天为法，以德为行，以道为宗。与物变化而无所终穷，精充天地而不竭，神覆宇宙而无望。莫知其始，莫知其终，莫知其门，莫知其端，莫知其源。其大无外，其小无内。此之谓至贵。士有若此者，五帝弗得而友，三王弗得而师，去其帝王之色，则近可得之矣。|\n",
      "|4|吕氏春秋|览·慎大览|尧不以帝见善绻，北面而问焉。尧，天子也；善绻，布衣也。何故礼之若此其甚也？善绻，得道之士也。得道之人，不可骄也。尧论其德行达智而弗若，故北面而问焉。此之谓至公。非至公其孰能礼贤？|\n",
      "|5|吕氏春秋|览·慎大览|齐桓公见小臣稷，一日三至弗得见。从者曰：“万乘之主，见布衣之士，一日三至而弗得见，亦可以止矣。”桓公曰：“不然，士骜禄爵者，固轻其主，其主骜霸王者，亦轻其士。纵夫子骜禄爵，吾庸敢骜霸王乎？” 遂见之，不可止。世多举桓公之内行，内行虽不修，霸亦可矣。诚行之此论，而内行修，王犹少。|\n",
      "|6|吕氏春秋|览·审应览|魏惠王谓惠子曰：“上世之有国，必贤者也。今寡人实不若先生，愿得传国。”惠子辞。王又固请曰：“寡人莫有之国於此者也，而传之贤者，民之贪争之心止矣。欲先生之以此听寡人也。”惠子曰：“若王之言，则施不可而听矣。王固万乘之主也，以国与人犹尚可。今施，布衣也，可以有万乘之国而辞之，此其止贪争之心愈甚也。”惠王谓惠子曰：古之有国者，必贤者也。夫受而贤者，舜也，是欲惠子之为舜也；夫辞而贤者，许由也，是惠子欲为许由也；传而贤者，尧也，是惠王欲为尧也。尧、舜、许由之作，非独传舜而由辞也，他行称此。今无其他，而欲为尧、舜、许由，故惠王布冠而拘于鄄，齐威王几弗受；惠子易衣变冠，乘舆而走，几不出乎魏境。凡自行不可以幸为，必诚。|\n",
      "|7|吕氏春秋|览·离俗览|一曰：世之所不足者，理义也；所有馀者，妄苟也。民之情，贵所不足，贱所有馀，故布衣、人臣之行，洁白清廉中绳，愈穷愈荣，虽死，天下愈高之，所不足也。然而以理义斫削，神农、黄帝犹有可非，微独舜、汤。飞兔、要褭，古之骏马也，材犹有短。故以绳墨取木，则宫室不成矣。|\n",
      "|8|吕氏春秋|览·离俗览|孔子见齐景公，景公致廪丘以为养。孔子辞不受，入谓弟子曰：“吾闻君子当功以受禄。今说景公，景公未之行而赐之廪丘，其不知丘亦甚矣！”令弟子趣驾，辞而行。孔子，布衣也，官在鲁司寇，万乘难与比行，三王之佐不显焉，取舍不苟也夫！|\n",
      "|9|吕氏春秋|览·离俗览|夙沙之民，自攻其君而归神农。密须之民，自缚其主而与文王。汤、武非徒能用其民也，又能用非己之民。能用非己之民，国虽小，卒虽少，功名犹可立。古昔多由布衣定一世者矣，皆能用非其有也。用非其有之心，不可察之本。三代之道无二，以信为管。|\n",
      "|10|吕氏春秋|览·离俗览|《周书》曰：“民，善之则畜也，不善则雠也。”有雠而众，不若无有。厉王，天子也，有雠而众，故流于彘，祸及子孙，微召公虎而绝无後嗣。今世之人主，多欲众之，而不知善，此多其雠也。不善则不有。有必缘其心，爱之谓也。有其形不可为有之。舜布衣而有天下，桀，天子也，而不得息，由此生矣。有无之论，不可不熟。汤、武通於此论，故功名立。|\n",
      "|11|吕氏春秋|览·恃君览|列精子高听行乎齐湣王，善衣柬布衣，白缟冠，颡推之履，特会朝而袪步堂下，谓其侍者曰：“我何若？”侍者曰：“公姣且丽。”列精子高因步而窥于井，粲然恶丈夫之状也。喟然叹曰：“侍者为吾听行于齐王也，夫何阿哉！又况于所听行乎？”万乘之主，人之阿之亦甚矣，而无所镜，其残亡无日矣。孰当可而镜？其唯士乎！人皆知说镜之明己也，而恶士之明己也。镜之明己也功细，士之明己也功大。得其细，失其大，不知类耳。|\n",
      "|12|吕氏春秋|览·恃君览|六曰：人主之行，与布衣异。势不便，时不利，事雠以求存。执民之命。执民之命，重任也，不得以快志为故。故布衣行此指于国，不容乡曲。|\n",
      "|13|吕氏春秋|论·不苟论|孔、墨、甯越，皆布衣之士也，虑于天下，以为无若先王之术者，故日夜学之。有便于学者，无不为也；有不便于学者，无肯为也。盖闻孔丘、墨翟，昼日讽诵习业，夜亲见文王、周公旦而问焉。用志如此其精也，何事而不达？何为而不成？故曰：“精而熟之，鬼将告之。”非鬼告之也，精而熟之也。今有宝剑良马于此，玩之不厌，视之无倦；宝行良道，一而弗复。欲身之安也，名之章也，不亦难乎！|\n",
      "|14|吕氏春秋|论·不苟论|荆有善相人者，所言无遗策，闻于国。庄王见而问焉。对曰：“臣非能相人也，能观人之友也。观布衣也，其友皆孝悌纯谨畏令，如此者，其家必日益，身必日荣，此所谓吉人也。观事君者也，其友皆诚信有行好善，如此者，事君日益，官职日进，此所谓吉臣也。观人主也，其朝臣多贤，左右多忠，主有失，皆交争证谏，如此者，国日安，主日尊，天下日服，此所谓吉主也。臣非能相人也，能观人之友也。”庄王善之，于是疾收士，日夜不懈，遂霸天下。故贤主之时见文艺之人也，非特具之而已也，所以就大务也。夫事无大小，固相与通。田猎驰骋弋射走狗，贤者非不为也，为之而智日得焉，不肖主为之而智日惑焉。志曰:“骄惑之事，不亡奚待？”|\n",
      "|15|六韬|文韬·盈虚|太公曰：“帝尧王天下之时，金银珠玉不饰，锦绣文绮不衣，奇怪珍异不视，玩好之器不宝，淫佚之乐不听，宫垣屋室不垩，甍、桷、橼、楹不斫，茅茨偏庭不剪。鹿裘御寒，布衣掩形，粝粮之饭，藜藿之羹。不以役作之故，害民耕织之时。削心约志，从事乎无为。吏忠正奉法者，尊其位；廉洁爱人者，厚其禄。民有孝慈者，爱敬之；尽力农桑者，慰勉之。旌别淑慝，表其门闾。平心正节，以法度禁邪伪。所憎者，有功必赏；所爱者，有罪必罚。存养天下鳏、寡、孤、独，振赡祸亡之家。其自奉也甚薄，共赋役也甚寡。故万民富乐而无饥寒之色，百姓戴其君如日月，亲其君如父母。”|\n",
      "|16|庄子|杂篇·让王|中山公子牟谓瞻子曰：“身在江海之上，心居乎魏阙之下，奈何？”瞻子曰：“重生。重生则利轻。”中山公子牟曰：“虽知之，未能自胜也。”瞻子曰：“不能自胜则从，神无恶乎！不能自胜而强不从者，此之谓重伤。重伤之人，无寿类矣！”魏牟，万乘之公子也，其隐岩穴也，难为于布衣之士，虽未至乎道，可谓有其意矣！|\n",
      "|17|大戴礼记|曾子制言中第五十五|故君子无悒悒于贫，无勿勿于贱，无惮惮于不闻；布衣不完，疏食不饱，蓬户穴牖，日孜孜，上仁；知我，吾无欣欣，不知我，吾无悒悒。|\n",
      "|18|战国策|齐三·孟尝君舍人有与君之夫|居期年，君召爱夫人者而谓之曰：“子与文游久矣，大官未可得，小官公又弗欲。卫君与文布衣交，请具车马皮币，愿君以此从卫君游。”于卫甚重。|\n",
      "|19|战国策|楚二·楚怀王拘张仪|楚怀王拘张仪，将欲杀之。靳尚为仪谓楚王曰：“拘张仪，秦王必怒。天下见楚之无秦也，楚必轻矣。”又谓王之幸夫人郑袖曰：“子亦自知且贱于王乎?”郑袖曰：“何也?”尚曰：“张仪者，秦王之忠信有功臣也。今楚拘之，秦王欲出之。秦王有爱女而美，又简择宫中佳翫丽好翫习音者，以欢从之；资之金玉宝器。奉以上庸六县为汤沐邑，欲因张仪内之楚王。楚王必爱，秦女依强秦以为重，挟宝地以为资，势为王妻以临于楚。王惑于虞乐，必厚尊敬亲爱之而忘子．子益贱而日疏矣。”郑袖曰：“愿委之于公，为之奈何?”曰：“子何不急言王，出张子。张子得出，德子无已时，秦女必不来，而秦必重子。子内擅楚之贵，外结秦之交。畜张子以为用，子之子孙必为楚太子矣，此非布衣之利也。”郑袖遽说楚王出张子。|\n",
      "|20|战国策|赵二·苏秦从燕之赵始合从|苏秦从燕之赵，始合从，说赵王曰：“天下之卿相人臣，乃至布衣之士，莫不高贤大王之行义，皆愿奉教陈忠于前之日久矣。虽然，奉阳君妬，大王不得任事，是以外宾客游谈之士，无敢尽忠于前者。今奉阳君捐馆舍，大王乃今然后得与士民相亲，臣故敢献其愚，效愚忠。为大王计，莫若安民无事，请无庸有为也。安民之本，在于择交，择交而得则民安，择交不得则民终身不得安。请言外患：齐、秦为两敌，而民不得安；倚秦攻齐，而民不得安；倚齐攻秦，而民不得安。故夫谋人之主，伐人之国，常苦出辞断绝人之交，愿大王慎无出与口也。|\n",
      "|21|战国策|魏四·秦王使人谓安陵君|秦王怫然怒，谓唐雎曰：“公亦尝闻天子之怒乎？”唐雎对曰：“臣未尝闻也。”秦王曰：“天子之怒，伏尸百万，流血千里。”唐雎曰：“大王尝闻布衣之怒乎？”秦王曰：“布衣之怒，亦免冠徒跣，以头抢地尔。”唐雎曰：“此庸夫之怒也，非士之怒也。夫专诸之刺王僚也，彗星袭月；聂政之刺韩傀也，白虹贯日；要离之刺庆忌也，苍鹰击于殿上。此三子者，皆布衣之士也，怀怒未发，休祲降于天，与臣而将四矣。若士必怒，伏尸二人，流血五步，天下缟素，今日是也。”挺剑而起。秦王色挠，长跪而谢之曰：“先生坐，何至于此！寡人谕矣。夫韩、魏灭亡，而安陵以五十里之地存者，徒以有先生也。”|\n",
      "|22|战国策|燕一·齐伐宋宋急|“虽然，臣闻知者之举事也，转祸而为福，因败而成功者也。齐人紫败素也，而贾十倍。越王勾践栖于会稽，而后残吴霸天下。此皆转祸而为福，因败而为功者也。今王若欲转祸而为福，因败而为功乎?则莫如遥伯齐而厚尊之，使盟于周室，尽焚天下之秦符，约曰：‘夫上计破秦，其次长宾之秦。’秦挟宾客以待破，秦王必患之。秦五世以结诸侯，今为齐下；秦王之志，苟得穷齐，不惮以一国都为功。然而王何不使布衣之人，以穷齐之说说秦，谓秦王曰：‘燕、赵破宋肥齐，尊齐而为之下者，燕、赵非利之也。弗利而势为之者，何也?以不信秦王也。今王何不使可以信者接收燕、赵。今泾阳君若高陵君先于燕、赵，秦有变，因以为质，则燕、赵信秦矣。秦为西帝，赵为中帝，燕为北帝，立为三帝而以令诸侯。韩、魏不听，则秦伐之。齐不听，则燕、赵伐之。天下孰敢不听?天下服听，因驱韩、魏以攻齐，曰，必反宋地而归楚之淮北。夫反宋地，归楚之准北，燕、赵之所同利也。并立三帝，燕、赵之所同愿也。夫实得所利，名得所愿，则燕、赵之弃齐也，犹释弊屣。今王之不收燕、赵，则齐伯必成矣。诸侯戴齐，而王独弗从也，是国伐也。诸侯戴齐，而王从之，是名卑也。王不收燕、赵，名卑而国危；王收燕、赵，名尊而国宁。夫去尊宁而就卑危，知者不为也。’秦王闻若说也，必如刺心然，则王何不务使知士以若此说秦?秦伐齐必矣。夫取秦也，上交也；伐齐，正利也。尊上交，务正利，圣王之事也。”|\n",
      "|23|战国策|燕二·陈翠合齐燕|陈翠曰：“人主之爱子也，不如布衣之甚也。非徒不爱子也，又不爱丈夫子独甚。”太后曰：“何也?”对曰：“太后嫁女诸侯，奉以千金，赍地③百里，以为人之终也。今王愿封公子，百官持职，群臣效忠，曰：‘公子无功，不当封。’今王之以公子为质也，且以为公子功而封之也。太后弗听，臣是以知人主之不爱丈夫子独甚也。且太后与王幸而在，故公子贵；太后千秋之后，王弃国家，而太子即位，公子贱于布衣。故非及太后与王封公子，则公子终身不封矣。”|\n",
      "|24|慎子|逸文|有虞之诛，以幪巾当墨，以草缨当剿，以菲履当刖，以艾鞸当宫，布衣无领当大辟，此有虞之诛也。斩人肢体，凿其肌肤，谓之刑；画衣冠，异章服，谓之戮。上世用戮，而民不犯也；当世用刑，而民不从。|\n",
      "|25|礼记|玉藻|童子之节也，缁布衣锦缘，锦绅，并纽锦，束发皆朱锦也。童子不裘不帛，不屦絇，无缌服。听事不麻，无事则立主人之北面，见先生从人而入。侍食于先生异爵者，后祭先饭。客祭，主人辞曰：“不足祭也。”客飧，主人辞以疏。主人自置其酱，则客自彻之。一室之人，非宾客，一人彻。壹食之人，一人彻。凡燕食，妇人不彻。食枣桃李，弗致于核，瓜祭上环，食中弃所操。凡食果实者后君子，火孰者先君子。有庆，非君赐不贺。孔子食于季氏，不辞，不食肉而飧。|\n",
      "|26|晏子春秋|卷二·内篇·篇二十|晏子出，梁丘据曰：“自昔及今，未尝闻求葬公宫者也，若何许之？”公曰：“削人之居，残人之墓，凌人之丧，而禁其葬，是于生者无施，于死者无礼。诗云： ‘谷则异室，死则同穴。’吾敢不许乎？”逢于何遂葬其母路寝之牖下，解衰去绖，布衣縢履，元冠茈武，踊而不哭。躄而不拜，已乃涕洟而去。|\n",
      "|27|晏子春秋|卷六·内篇·篇十二|晏子布衣栈车而朝陈桓子侍景公饮酒请浮之|\n",
      "|28|晏子春秋|卷七·外篇·篇十|晏子对曰：“西郭徒居布衣之士盆成适也。父之孝子，兄之顺弟也。又尝为孔子门人。今其母不幸而死，祔柩未葬，家贫，身老，子孺，恐力不能合祔，是以悲也。”|\n",
      "|29|晏子春秋|卷七·外篇·篇十一|晏子对曰：“西郭徒居布衣之士盆成适也。父之孝子，兄之顺弟也。又尝为孔子门人。今其母不幸而死，祔柩未葬，家贫，身老，子孺，恐力不能合祔，是以悲也。”|\n",
      "|30|晏子春秋|卷七·外篇·篇二十六|晏子相景公，布衣鹿裘以朝。公曰：“夫子之家，若此其贫也，是奚衣之恶也！寡人不知，是寡人之罪也。 ”|\n",
      "|31|晏子春秋|卷七·外篇·篇二十六|晏子对曰：“婴闻之，盖顾人而后衣食者，不以贪昧为非；盖顾人而后行者，不以邪僻为累。婴不肖，婴之族又不如婴也，待婴以祀其先人者五百家，婴又得布衣鹿裘而朝，于婴不有饰乎！”再拜而辞。|\n",
      "|32|荀子|富国|凡攻人者，非以为名，则案以为利也；不然则忿之也。仁人之用国，将修志意， 正身行，伉隆高，致忠信，期文理。布衣紃屦之士诚是，则虽在穷阎漏屋，而王公 不能与之争名；以国载之，则天下莫之能隐匿也。若是则为名者不攻也。将辟田野， 实仓廪，便备用，上下一心，三军同力，与之远举极战则不可；境内之聚也保固； 视可，午其军，取其将，若拨麷。彼得之，不足以药伤补败。彼爱其爪牙，畏其仇 敌，若是则为利者不攻也。将修大小强弱之义，以持慎之，礼节将甚文，圭璧将甚 硕，货赂将甚厚，所以说之者，必将雅文辩慧之君子也。彼苟有人意焉，夫谁能忿 之？若是，则忿之者不攻也。为名者否，为利者否，为忿者否，则国安于盘石，寿 于旗翼。人皆乱，我独治；人皆危，我独安；人皆丧失之，我按起而治之。故仁人 之用国，非特将持其有而已也，又将兼人。诗曰：“淑人君子，其仪不忒；其仪不 忒，正是四国。”此之谓也。|\n",
      "|33|荀子|大略|不自嗛其行者，言滥过。古之贤人，贱为布衣，贫为匹夫，食则饘粥不足，衣则竖褐不完；然而非礼不进，非义不受，安取此？|\n",
      "|34|邓析子|无厚篇|天於人无厚也，君於民无厚也，父於子无厚也，兄於弟无厚也。何以言之？天不能屏勃厉之气，全夭折之人，使为善之民必寿，此於民无厚也。凡民有穿窬为盗者，有诈伪相迷者，皆生於不足，起於贫穷，而君必执法诛之，此於民无厚也。尧舜位为天子，而丹朱商均为布衣，此於子无厚也。周公诛管蔡，此於弟无厚也。推而言之，何厚之有？|\n",
      "|35|黄帝内经|灵枢·根结|黄帝曰：逆顺五体者，言人骨节之大小、肉之坚脆、皮之厚薄、血之清浊、气之滑涩、脉之长短、血之多少、经络之数，余已知之矣，此皆布衣匹夫之士也。夫王公大人，血食之君，身体柔脆，肌肉软弱，血气慓悍滑利，其刺之徐疾、浅深、多少，可得同之乎？|\n",
      "|36|黄帝内经|灵枢·根结|岐伯答曰：膏梁菽藿之味，何可同也？气滑即出疾，其气涩则出迟。气悍则针小而入浅，气涩则针大而入深，深则欲留，浅则欲疾。以此观之，刺布衣者，深以留之，刺大人者，微以徐之，此皆因气慓悍滑利也。|\n",
      "|37|黄帝内经|灵枢·寿夭刚柔|伯高答曰：刺布衣者，以火焠之。刺大人者，以药熨之。|\n",
      "|38|韩非子|奸劫弑臣|世之学者说人主，不曰：\"乘威严之势以困奸邪之臣\"，而皆曰：\"仁义惠爱而已矣！\"世主美仁义之名而不察其实，是以大者国亡身死，小者地削主卑。何以明之？夫施与贫困者，此世之所谓仁义；哀怜百姓，不忍诛罚者，此世之所谓惠爱也。夫有施与贫困，则无功者得赏；不忍诛罚，则暴乱者不止。国有无功得赏者，则民不外务当敌斩首，内不急力田疾作，皆欲行货财，事富贵，为私善，立名誉，以取尊官厚俸。故奸私之臣愈众，而暴乱之徒愈胜，不亡何时！夫严刑者，民之所畏也；重罚者，民之所恶也。故圣人陈其所畏以禁其邪，设其所恶以防其奸，是以国安而暴乱不起。吾以是明仁义爱惠之不足用，而严刑重罚之可以治国也。无棰策之威，衔橛之备，虽造父不能以服马；无规矩之法，绳墨之端，虽王尔不能以成方圆；无威严之势，赏罚之法，虽舜不能以为治。今世主皆轻释重罚严诛，行爱惠，而欲霸王之功，亦不可几也。故善为主者，明赏设利以劝之，使民以功赏而不以仁义赐；严刑重罚以禁之，使民以罪诛而不以爱惠免。是以无功者不望，而有罪者不幸矣。讬于犀车良马之上，则可以陆犯阪阻之患；乘舟之安，持楫之利，则可以水绝江河之难；操法术之数，行重罚严诛，则可以致霸王之功。治国之有法术赏罚，犹若陆行之有犀车良马也，水行之有轻舟便楫也，乘之者遂得其成。伊尹得之，汤以王；管仲得之，齐以霸；商君得之，秦以强。此三人者，皆明于霸王之术，察于治强之数，而不以牵于世俗之言；适当世明主之意，则有直任布衣之士，立为卿相之处；处位治国，则有尊主广地之实：此之谓足贵之臣。汤得伊尹，以百里之地立为天子；桓公得管仲，立为五霸主，九合诸候，一匡天下；孝公得商君，地以广，兵以强。故有忠臣者，外无敌国之患，内无乱臣之忧，长安于天下，而名垂后世，所谓忠臣也。若夫豫让为智伯臣也，上不能说人主使之明法术度数之理以避祸难之患，下不能领御其众以安其国；及襄子之杀智伯也，豫让乃自黔劓，败其形容，以为智伯报襄子之仇。是虽有残刑杀身以为人主之名，而实无益于智伯若秋毫之末。此吾之所下也，而世主以为忠而高之。古有伯夷叔齐者，武王让以天下而弗受，二人饿死首阳之陵。若此臣，不畏重诛，不利重赏，不可以罚禁也，不可以赏使也，此之谓无益之臣也。吾所少而去也，而世主之所多而求也。|\n",
      "|39|韩非子|外储说左上|赵主父使李疵视中山可攻不也。还报曰：“中山可伐也。君不亟伐，将后齐、燕。”主父曰：“何故可攻？”李疵对曰：“其君见好岩穴之士，所倾盖与车以见穷闾陋巷之士以十数，伉礼下布衣之士以百数矣。”君曰：“以子言论，是贤君也，安可攻？”疵曰：“不然。夫好显岩穴之士而朝之，则战士怠于行阵；上尊学者，下士居朝，则农夫惰于田。战士怠于行阵者，则兵弱也；农夫惰于田者，则国贫也。兵弱于敌，国贫于内，而不亡者，未之有也。伐之不亦可乎？”主父曰：“善。”举兵而伐中山，遂灭也。|\n",
      "|40|韩非子|外储说右上|夫痤疽之痛也，非刺骨髓，则烦心不可支也；非如是，不能使人以半寸砥石弹之。今人主之于治亦然：非人不知有若则安；欲治其国，非如是不能听圣知则诛乱臣。乱臣者必重人，重人者，必人主所甚亲爱也。人主所甚亲爱也者，是同坚白也。夫以布衣之资，欲以离人主之坚白所爱，是犹以解左髀说右髀者，是身必死而说不行者也。|\n",
      "|41|韩非子|难一|齐桓公时，有处士曰小臣稷，桓公三往而弗得见。桓公曰：“吾闻布衣之士不轻爵禄，无以易万乘之主；万乘之主不好仁义，亦无以下布衣之士。”于是五往乃得见之。|\n",
      "|42|韩非子|说疑|为人主者，诚明于臣之所言，则虽弋驰骋，撞钟舞女，国犹且存也；不明臣之所言，虽节俭勤劳，布衣恶食，国犹自亡也。赵之先君敬侯，不修德行，而好纵欲，适身体之所安，耳目之所乐，冬日弋，夏浮淫，为长夜，数日不废御觞，不能饮者以筒灌其口，进退不肃、应对不恭者斩于前。故居处饮食如此其不节也。制刑杀戮如此其无度也，然敬侯享国数十年，兵不顿于敌国，地不亏于四邻，内无君臣百官之乱，外无诸侯邻国之患，明于所以任臣也。燕君子哙，邵公之后也，地方数千里，持戟数十万，不安子女之乐，不听钟石之声，内不堙污池台榭，外不弋田猎，又亲操耒耨以修畎亩。子哙之苦身以忧民如此其甚也，虽古之所谓圣王明君者，其勤身而忧世不甚于此矣。然而子哙身死国亡，夺于子之，而天下笑之。此其何故也？不明乎所以任臣也。|\n",
      "|43|韩非子|六反|畏死远难，降北之民也，而世尊之曰“贵生之士”。学道立方，离法之民也，而世尊之曰“文学之士”游居厚养，牟食之民也，而世尊之曰“有能之士”。语曲牟知，伪诈之民也。而世尊之曰“辩智之士”。行剑攻杀，暴憿之民也，而世尊之曰“磏勇之士”。活贼匿奸，当死之民也，而世尊之曰“任誉之士”。此六民者，世之所誉也。赴险殉诚，死节之民，而世少之曰“失计之民”也。寡闻从令，全法之民也，而世少之曰“朴陋之民”也。力作而食，生利之民也，而世少之曰“寡能之民”也，嘉厚纯粹，整谷之民也，而世少之曰“愚戆之民”也。重命畏事，尊上之民也，而世少之曰“怯慑之民”也。挫贼遏奸，明上之民也，而世少之曰“謟谗之民”也。此六民者，世之所毁也。奸伪无益之民六，而世誉之如彼；耕战有益之民六，而世毁之如此：此之谓“六反”。布衣循私利而誉之，世主听虚声而礼之，礼之所在，利必加焉。百姓循私害而訾之，世主壅于俗而贱之，贱之所在，害必加焉。故名赏在乎私恶当罪之民，而毁害在乎公善宜赏之士，索国之富强，不可得也。|\n",
      "|44|韩非子|五蠹|且世之所谓贤者，贞信之行也；所谓智者，微妙之言也。微妙之言，上智之所难知也。今为众人法，而以上智之所难知，则民无从识之矣。故糟糠不饱者不务粱肉，短褐不完者不待文绣。夫治世之事，急者不得，则缓者非所务也。今所治之政，民间之事，夫妇所明知者不用，而慕上知之论，则其于治反矣。故微妙之言，非民务也。若夫贤良贞信之行者，必将贵不欺之士；不欺之士者，亦无不欺之术也。布衣相与交，无富厚以相利，无威势以相惧也，故求不欺之士。今人主处制人之势，有一国之厚，重赏严诛，得操其柄，以修明术之所烛，虽有田常、子罕之臣，不敢欺也，奚待于不欺之士？今贞信之士不盈于十，而境内之官以百数，必任贞信之士，则人不足官。人不足官，则治者寡而乱者众矣。故明主之道，一法而不求智，固术而不慕信，故法不败，而群官无奸诈矣。|\n"
     ]
    }
   ],
   "source": [
    "#query = \"not (大人 or 小人) and (君子)\"\n",
    "#query = \"大人 and 小人\"\n",
    "#query = \"君子 not (大人 or 小人)\"\n",
    "#query = \"君子 and not (大人 or 小人)\"\n",
    "query = \"拯马\"\n",
    "query = \"左股\"\n",
    "query = \"乘马\"\n",
    "query = \"右骖\" # 骈、骖、驷、騑、服\n",
    "query = \"大人 or 小人 or 君子 or 圣人\" # 愚人 哲人 庶民 庶人 仕\n",
    "query = \"大人\"\n",
    "#books = \"+诗经\" # +bookname+bookname, -bookname-bookname\n",
    "books = \"+诗经,周礼,尚书,逸周书,左传,公羊传,谷梁传,国语,战国策,竹书纪年,穆天子传,周易,易传\"\n",
    "books = \"\"\n",
    "query = \"布衣\"\n",
    "\n",
    "results, piececount, bookcount = querybooks(bookspath, query, books, limit = None)\n",
    "print(f\"搜索{bookcount}本书籍，一共发现{piececount}个结果。\\n\")\n",
    "\n",
    "#output(results)\n",
    "output_markdown(results)"
   ]
  },
  {
   "cell_type": "code",
   "execution_count": 16,
   "id": "191c80f4-71ef-4f82-a65e-c5fac7f02881",
   "metadata": {
    "tags": []
   },
   "outputs": [],
   "source": [
    "def checkQuery(querylist):\n",
    "    for q in querylist:\n",
    "        if isinstance(q, list):\n",
    "            print(f\"sub-query:\")\n",
    "            checkQuery(q)\n",
    "        else:\n",
    "            result = q.split(\" \")  # 以逗号或者空格为分隔符分割字符串\n",
    "            print(\"query: \" + \"/\".join(result))  # 输出结果为 ['apple', 'banana', 'cherry']\n",
    "    return True\n",
    "\n",
    "def queryParser(query):\n",
    "    _, querylist, _ = parse_nestedbrackets_to_list(query)\n",
    "    \n",
    "    #querylist = querylist[1]\n",
    "    r = checkQuery(querylist)\n",
    "    if r == False:\n",
    "        print(f\"query: '{query}' is not a correctly query.\")\n",
    "        print(f\"error message: {r}.\")\n",
    "        return querylist\n",
    "    else:\n",
    "        return []"
   ]
  },
  {
   "cell_type": "code",
   "execution_count": 17,
   "id": "7ef2bbaa-8674-450e-a5f1-ff941b184429",
   "metadata": {},
   "outputs": [
    {
     "name": "stdout",
     "output_type": "stream",
     "text": [
      "inlcude, book: 周易 in booklist: ['易经', '周易', '诗经', '孙子兵法']\n"
     ]
    }
   ],
   "source": [
    "import re\n",
    "\n",
    "books = \"-易经+周易+诗经-油车还扯\"\n",
    "booklist = re.findall(\"[\\+｜-]\\w+\", books, re.I)\n",
    "if '-' in booklist:\n",
    "    print(\"易经 在booklist。\")\n",
    "\n",
    "books = \"+易经,周易,诗经,孙子兵法\"\n",
    "#books = None\n",
    "include = None\n",
    "if books is not None and books[0] == '+':\n",
    "    include = True\n",
    "elif books is not None and books[0] == '-':\n",
    "    include = False\n",
    "\n",
    "book = \"周易\"\n",
    "booklist = books[1:].split(\",\")\n",
    "if include == True:\n",
    "    if book in booklist:\n",
    "        print(f\"inlcude, book: {book} in booklist: {booklist}\")\n",
    "elif include == False:\n",
    "    if book in booklist:\n",
    "        print(f\"exlcude, book: {book} in booklist: {booklist}\")"
   ]
  },
  {
   "cell_type": "code",
   "execution_count": null,
   "id": "d46a4b3c-9f24-40a5-b42b-c3209b4c36ad",
   "metadata": {},
   "outputs": [],
   "source": []
  },
  {
   "cell_type": "code",
   "execution_count": null,
   "id": "b5b2516b-62dd-489f-ba85-ceca3d324495",
   "metadata": {},
   "outputs": [],
   "source": []
  }
 ],
 "metadata": {
  "kernelspec": {
   "display_name": "Python 3 (ipykernel)",
   "language": "python",
   "name": "python3"
  },
  "language_info": {
   "codemirror_mode": {
    "name": "ipython",
    "version": 3
   },
   "file_extension": ".py",
   "mimetype": "text/x-python",
   "name": "python",
   "nbconvert_exporter": "python",
   "pygments_lexer": "ipython3",
   "version": "3.10.12"
  }
 },
 "nbformat": 4,
 "nbformat_minor": 5
}
