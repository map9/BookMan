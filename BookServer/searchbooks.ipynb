{
 "cells": [
  {
   "cell_type": "markdown",
   "id": "0573a3a5-adc2-4fbd-abb0-3cc836311f75",
   "metadata": {},
   "source": [
    "# search books\n",
    "used whoosh search engine.\n",
    "[whoosh documents](https://whoosh.readthedocs.io/en/latest/index.html)"
   ]
  },
  {
   "cell_type": "markdown",
   "id": "b4e26d24-a8fe-4c18-b719-b8d87db438c4",
   "metadata": {},
   "source": [
    "## 安装 whoosh 文本搜索引擎\n",
    "- 安装 whoosh 文本搜索引擎\n",
    "- 安装结巴中文分词\n",
    "- 安装stanza分词\n",
    "- 安装jiayan分词"
   ]
  },
  {
   "cell_type": "code",
   "execution_count": 211,
   "id": "a5a27038-cba3-4e85-88ee-0b3407259d65",
   "metadata": {},
   "outputs": [],
   "source": [
    "#!pip install whoosh\n",
    "#!pip install jieba"
   ]
  },
  {
   "cell_type": "markdown",
   "id": "dee035a0-4bef-4871-8c6f-d5c488de6f16",
   "metadata": {},
   "source": [
    "## 创建搜索工具"
   ]
  },
  {
   "cell_type": "code",
   "execution_count": 301,
   "id": "bfc64dc0-4862-410b-bac0-1a28b0b717df",
   "metadata": {},
   "outputs": [],
   "source": [
    "import os\n",
    "from whoosh.index import create_in\n",
    "from whoosh.fields import *\n",
    "from jieba.analyse import ChineseAnalyzer\n",
    "import json"
   ]
  },
  {
   "cell_type": "markdown",
   "id": "9aa6bcd4-0120-49f9-b7f5-d63fdb99bed3",
   "metadata": {},
   "source": [
    "### 创建分词器"
   ]
  },
  {
   "cell_type": "code",
   "execution_count": 319,
   "id": "a09f70da-9f63-44cb-b980-060d6eeff5bc",
   "metadata": {
    "tags": []
   },
   "outputs": [],
   "source": [
    "# jiayan 分词器\n",
    "from whoosh.analysis import RegexAnalyzer, LowercaseFilter, StopFilter, StemFilter\n",
    "from whoosh.analysis import Tokenizer, Token\n",
    "from whoosh.lang.porter import stem\n",
    "from jiayan import load_lm\n",
    "from jiayan import CharHMMTokenizer\n",
    "import site\n",
    "import re\n",
    "\n",
    "STOP_WORDS = frozenset(('a', 'an', 'and', 'are', 'as', 'at', 'be', 'by', 'can',\n",
    "                        'for', 'from', 'have', 'if', 'in', 'is', 'it', 'may',\n",
    "                        'not', 'of', 'on', 'or', 'tbd', 'that', 'the', 'this',\n",
    "                        'to', 'us', 'we', 'when', 'will', 'with', 'yet',\n",
    "                        'you', 'your', '的', '了', '和'))\n",
    "\n",
    "accepted_chars = re.compile(r\"[\\u4E00-\\u9FD5]+\")\n",
    "\n",
    "class JiayanChineseTokenizer(Tokenizer):\n",
    "    chartokenizer = None\n",
    "    wordtokenizer = None\n",
    "\n",
    "    def __call__(self, text, tokenizer = 'word', **kargs):\n",
    "        if tokenizer == 'char':\n",
    "            if self.chartokenizer is None:\n",
    "                model_path = os.path.join(site.getsitepackages()[0], 'jiayan', 'data', 'jiayan.klm') #site.getusersitepackages()\n",
    "                lm = load_lm(model_path)\n",
    "                self.chartokenizer = CharHMMTokenizer(lm)\n",
    "            tokenizer = self.chartokenizer\n",
    "        else:\n",
    "            if self.wordtokenizer is None:\n",
    "                self.wordtokenizer = WordNgramTokenizer()\n",
    "            tokenizer = self.wordtokenizer\n",
    "\n",
    "        result = tokenizer.tokenize(text)\n",
    "\n",
    "        count = 0\n",
    "        token = Token()\n",
    "        for tok in result:\n",
    "            text = tok\n",
    "            start_char = count\n",
    "            count = count + len(tok)\n",
    "            end_char = count\n",
    "\n",
    "            if not accepted_chars.match(text) and len(text) <= 1:\n",
    "                continue\n",
    "            token.original = token.text = text\n",
    "            token.pos = start_char\n",
    "            token.startchar = start_char\n",
    "            token.endchar = end_char\n",
    "            yield token\n",
    "\n",
    "def JiayanChineseAnalyzer(stoplist=STOP_WORDS, minsize=1, stemfn=stem, cachesize=50000):\n",
    "    return (JiayanChineseTokenizer() | LowercaseFilter() |\n",
    "            StopFilter(stoplist=stoplist, minsize=minsize) |\n",
    "            StemFilter(stemfn=stemfn, ignore=None, cachesize=cachesize))"
   ]
  },
  {
   "cell_type": "code",
   "execution_count": 320,
   "id": "b0b76a5d-4dd8-4cde-8fda-69009e0c15ff",
   "metadata": {
    "tags": []
   },
   "outputs": [],
   "source": [
    "# Stanza 分词器\n",
    "from whoosh.analysis import RegexAnalyzer, LowercaseFilter, StopFilter, StemFilter\n",
    "from whoosh.analysis import Tokenizer, Token\n",
    "from whoosh.lang.porter import stem\n",
    "import re\n",
    "import stanza\n",
    "\n",
    "STOP_WORDS = frozenset(('a', 'an', 'and', 'are', 'as', 'at', 'be', 'by', 'can',\n",
    "                        'for', 'from', 'have', 'if', 'in', 'is', 'it', 'may',\n",
    "                        'not', 'of', 'on', 'or', 'tbd', 'that', 'the', 'this',\n",
    "                        'to', 'us', 'we', 'when', 'will', 'with', 'yet',\n",
    "                        'you', 'your', '的', '了', '和'))\n",
    "\n",
    "accepted_chars = re.compile(r\"[\\u4E00-\\u9FD5]+\")\n",
    "\n",
    "class StanzaChineseTokenizer(Tokenizer):\n",
    "    nlp = None\n",
    "\n",
    "    def __call__(self, text, **kargs):\n",
    "        #stanza.download('zh')       # This downloads the English models for the neural pipeline\n",
    "        if self.nlp is None:\n",
    "            self.nlp = stanza.Pipeline('zh', download_method=stanza.DownloadMethod.REUSE_RESOURCES) # This sets up a default neural pipeline in English\n",
    "        doc = self.nlp(text)\n",
    "        \n",
    "        token = Token()\n",
    "        for sentence in doc.sentences:\n",
    "            #print(sentence)\n",
    "            for tok in sentence.tokens:\n",
    "                text = ''\n",
    "                start_char = tok._start_char\n",
    "                end_char = tok._end_char\n",
    "                if tok.words:  # not-yet-processed MWT can leave empty tokens\n",
    "                    for word in tok.words:\n",
    "                        start_char = word._start_char\n",
    "                        end_char = word._end_char\n",
    "                        text = word._text\n",
    "\n",
    "                if not accepted_chars.match(text) and len(text) <= 1:\n",
    "                    continue\n",
    "                token.original = token.text = text\n",
    "                token.pos = start_char\n",
    "                token.startchar = start_char\n",
    "                token.endchar = end_char\n",
    "                yield token\n",
    "\n",
    "\n",
    "def StanzaChineseAnalyzer(stoplist=STOP_WORDS, minsize=1, stemfn=stem, cachesize=50000):\n",
    "    return (StanzaChineseTokenizer() | LowercaseFilter() |\n",
    "            StopFilter(stoplist=stoplist, minsize=minsize) |\n",
    "            StemFilter(stemfn=stemfn, ignore=None, cachesize=cachesize))"
   ]
  },
  {
   "cell_type": "markdown",
   "id": "37db4204-6d4c-444b-840a-aebddcefcec6",
   "metadata": {},
   "source": [
    "### 创建搜索范式"
   ]
  },
  {
   "cell_type": "markdown",
   "id": "892c1f7c-e093-4081-b3e2-b2a56b6e3d76",
   "metadata": {},
   "source": [
    "there are two ways to define a schema.\n",
    "one is used Schema directly to create, another is used subclass Schema. "
   ]
  },
  {
   "cell_type": "code",
   "execution_count": 321,
   "id": "7863130e-2491-4d69-8e85-dc02534afe0f",
   "metadata": {},
   "outputs": [],
   "source": [
    "# Create book_schema, used Schema directly. stored is True for search. \n",
    "#BookSchema = Schema(book_title=TEXT(stored=True),\n",
    "#                    volume_title=TEXT(stored=True),\n",
    "#                    chapter_title=TEXT(stored=True),\n",
    "#                    content=TEXT(stored=True))"
   ]
  },
  {
   "cell_type": "code",
   "execution_count": 335,
   "id": "b3640cd6-b5bb-4a7d-896a-3d955eed99ef",
   "metadata": {},
   "outputs": [],
   "source": [
    "# Create book_schema, used subclass Schema.\n",
    "analyzer = StanzaChineseAnalyzer() # Stanza\n",
    "analyzer = JiayanChineseAnalyzer() # Jiayan\n",
    "analyzer = ChineseAnalyzer() # Jieba\n",
    "\n",
    "class BookSchema(SchemaClass):\n",
    "    book_title = TEXT(stored=True, analyzer=analyzer)\n",
    "    volume_title = TEXT(stored=True, analyzer=analyzer)\n",
    "    chapter_title = TEXT(stored=True, analyzer=analyzer)\n",
    "    content = TEXT(stored=True, analyzer=analyzer)"
   ]
  },
  {
   "cell_type": "markdown",
   "id": "b0f2c757-719e-4405-bce6-f1eb6b3ab2e0",
   "metadata": {},
   "source": [
    "### 建立索引"
   ]
  },
  {
   "cell_type": "code",
   "execution_count": 336,
   "id": "3d928623-2eb1-4f74-8f80-eb151a8628f8",
   "metadata": {
    "editable": true,
    "slideshow": {
     "slide_type": ""
    },
    "tags": []
   },
   "outputs": [],
   "source": [
    "def decodebook(filename, ix):\n",
    "    \n",
    "    print(filename)\n",
    "    # 按照schema定义信息，增加需要建立索引的文档\n",
    "    writer = ix.writer()\n",
    "    with open(filename, 'r', encoding='utf-8') as file:\n",
    "        book = json.load(file);\n",
    "        book_title = book[\"title\"]\n",
    "        description = book[\"description\"]\n",
    "        for volume in book[\"volumes\"]:\n",
    "            volume_title = volume[\"title\"]\n",
    "            for chapter in volume[\"chapters\"]:\n",
    "                chapter_title = chapter[\"title\"]\n",
    "                #print(f\"chapter: {chapter_title}\")\n",
    "                \n",
    "                if (chapter.get(\"paragraphs\")):\n",
    "                    for paragraph in chapter[\"paragraphs\"]:\n",
    "                        content = paragraph[\"content\"]\n",
    "                        writer.add_document(book_title=book_title, volume_title=volume_title, chapter_title=chapter_title, content=content)            \n",
    "        writer.commit()"
   ]
  },
  {
   "cell_type": "code",
   "execution_count": 337,
   "id": "7d62d360-fae4-410e-acf5-8ba19c3e9264",
   "metadata": {},
   "outputs": [],
   "source": [
    "def CreateBookIndex(bookspath):\n",
    "    # 解析 books.json 文件\n",
    "    filenames = os.listdir(bookspath)\n",
    "    filenames.sort()\n",
    "    filenames = [f\"{bookspath}/{filename}\" for filename in filenames if filename.endswith(\".json\")]\n",
    "    \n",
    "    # 存储 schema 信息至 index 目录\n",
    "    indexpath = os.path.join(bookspath, \"index/\")\n",
    "    \n",
    "    if not os.path.exists(indexpath):\n",
    "        os.mkdir(indexpath)\n",
    "    ix = create_in(indexpath, BookSchema, indexname='BookIndex')\n",
    "    \n",
    "    for filename in filenames:\n",
    "        decodebook(filename, ix)"
   ]
  },
  {
   "cell_type": "code",
   "execution_count": 338,
   "id": "97d33e06-fcef-48cd-a415-8ead15363382",
   "metadata": {},
   "outputs": [],
   "source": [
    "bookspath = \"/Users/sunyafu/zebra/YIJING/Books/ready\""
   ]
  },
  {
   "cell_type": "code",
   "execution_count": 340,
   "id": "ba59ade4-c58c-4ae3-8ccd-2cb67556dd76",
   "metadata": {
    "scrolled": true,
    "tags": []
   },
   "outputs": [
    {
     "name": "stdout",
     "output_type": "stream",
     "text": [
      "/Users/sunyafu/zebra/YIJING/Books/ready/仪礼.json\n",
      "/Users/sunyafu/zebra/YIJING/Books/ready/公孙龙子.json\n",
      "/Users/sunyafu/zebra/YIJING/Books/ready/公羊传.json\n",
      "/Users/sunyafu/zebra/YIJING/Books/ready/六韬.json\n",
      "/Users/sunyafu/zebra/YIJING/Books/ready/列子.json\n",
      "/Users/sunyafu/zebra/YIJING/Books/ready/司马法.json\n",
      "/Users/sunyafu/zebra/YIJING/Books/ready/吕氏春秋.json\n",
      "/Users/sunyafu/zebra/YIJING/Books/ready/吴子.json\n",
      "/Users/sunyafu/zebra/YIJING/Books/ready/周易.json\n",
      "/Users/sunyafu/zebra/YIJING/Books/ready/周礼.json\n",
      "/Users/sunyafu/zebra/YIJING/Books/ready/商君书.json\n",
      "/Users/sunyafu/zebra/YIJING/Books/ready/国语.json\n",
      "/Users/sunyafu/zebra/YIJING/Books/ready/墨子.json\n",
      "/Users/sunyafu/zebra/YIJING/Books/ready/大戴礼记.json\n",
      "/Users/sunyafu/zebra/YIJING/Books/ready/孙子兵法.json\n",
      "/Users/sunyafu/zebra/YIJING/Books/ready/孙膑兵法.json\n",
      "/Users/sunyafu/zebra/YIJING/Books/ready/孝经.json\n",
      "/Users/sunyafu/zebra/YIJING/Books/ready/孟子.json\n",
      "/Users/sunyafu/zebra/YIJING/Books/ready/尉缭子.json\n",
      "/Users/sunyafu/zebra/YIJING/Books/ready/尔雅.json\n",
      "/Users/sunyafu/zebra/YIJING/Books/ready/尚书.json\n",
      "/Users/sunyafu/zebra/YIJING/Books/ready/尹文子.json\n",
      "/Users/sunyafu/zebra/YIJING/Books/ready/山海经.json\n",
      "/Users/sunyafu/zebra/YIJING/Books/ready/左传.json\n",
      "/Users/sunyafu/zebra/YIJING/Books/ready/庄子.json\n",
      "/Users/sunyafu/zebra/YIJING/Books/ready/慎子.json\n",
      "/Users/sunyafu/zebra/YIJING/Books/ready/战国策.json\n",
      "/Users/sunyafu/zebra/YIJING/Books/ready/文子.json\n",
      "/Users/sunyafu/zebra/YIJING/Books/ready/易传.json\n",
      "/Users/sunyafu/zebra/YIJING/Books/ready/晏子春秋.json\n",
      "/Users/sunyafu/zebra/YIJING/Books/ready/申子.json\n",
      "/Users/sunyafu/zebra/YIJING/Books/ready/礼记.json\n",
      "/Users/sunyafu/zebra/YIJING/Books/ready/穆天子传.json\n",
      "/Users/sunyafu/zebra/YIJING/Books/ready/竹书纪年.json\n",
      "/Users/sunyafu/zebra/YIJING/Books/ready/管子.json\n",
      "/Users/sunyafu/zebra/YIJING/Books/ready/老子.json\n",
      "/Users/sunyafu/zebra/YIJING/Books/ready/荀子.json\n",
      "/Users/sunyafu/zebra/YIJING/Books/ready/论语.json\n",
      "/Users/sunyafu/zebra/YIJING/Books/ready/谷梁传.json\n",
      "/Users/sunyafu/zebra/YIJING/Books/ready/逸周书.json\n",
      "/Users/sunyafu/zebra/YIJING/Books/ready/邓析子.json\n",
      "/Users/sunyafu/zebra/YIJING/Books/ready/难经.json\n",
      "/Users/sunyafu/zebra/YIJING/Books/ready/韩非子.json\n",
      "/Users/sunyafu/zebra/YIJING/Books/ready/鬼谷子.json\n",
      "/Users/sunyafu/zebra/YIJING/Books/ready/黄帝内经.json\n",
      "/Users/sunyafu/zebra/YIJING/Books/ready/黄帝四经.json\n"
     ]
    }
   ],
   "source": [
    "CreateBookIndex(bookspath)"
   ]
  },
  {
   "cell_type": "markdown",
   "id": "a5e075c7-0f53-4290-8772-e7f053bcbe2d",
   "metadata": {},
   "source": [
    "### 搜索"
   ]
  },
  {
   "cell_type": "code",
   "execution_count": 342,
   "id": "38e2bacb-b8ca-4ef7-b3e1-dddfd08803d4",
   "metadata": {},
   "outputs": [],
   "source": [
    "from whoosh.qparser import QueryParser, MultifieldParser\n",
    "from whoosh.index import open_dir\n",
    "from whoosh.query import compound, Term"
   ]
  },
  {
   "cell_type": "code",
   "execution_count": 343,
   "id": "6d79134d-1a1b-4876-af4f-9fc01d9744a5",
   "metadata": {},
   "outputs": [],
   "source": [
    "def GetBookIndex(bookspath):\n",
    "    indexpath = os.path.join(bookspath, \"index/\")\n",
    "    ix = open_dir(indexpath, indexname='BookIndex')\n",
    "    return ix"
   ]
  },
  {
   "cell_type": "code",
   "execution_count": 346,
   "id": "9e90d363-385d-4101-9376-85043013c79f",
   "metadata": {
    "editable": true,
    "slideshow": {
     "slide_type": ""
    },
    "tags": []
   },
   "outputs": [
    {
     "name": "stdout",
     "output_type": "stream",
     "text": [
      "一共发现2个结果。\n",
      "\n",
      "0. 周易 上经·第十卦 ䷉履 天泽履 乾上兑下\n",
      "九二：履道坦坦，幽人贞吉。\n",
      "\n",
      "1. 易传 象传上·履\n",
      "素履之往，独行愿也。幽人贞吉，中不自乱也。眇能视，不足以有明也。跛能履，不足以与行也。咥人之凶，位不当也。武人为于大君，志刚也。愬愬终吉，志行也。夬履贞厉，位正当也。元吉在上，大有庆也。\n",
      "\n"
     ]
    }
   ],
   "source": [
    "# 创建一个检索器\n",
    "ix = GetBookIndex(bookspath)\n",
    "with ix.searcher() as searcher:\n",
    "    query = QueryParser(\"content\", ix.schema).parse(\"幽人\")\n",
    "    results = searcher.search(Term('content', '幽人'), limit=None)\n",
    "    print('一共发现%d个结果。\\n' % len(results))\n",
    "\n",
    "    # 允许被检索到的文字内容包含的最大的字符数\n",
    "    results.fragmenter.maxchars = 300\n",
    "    # 在被检索到的文字之前和之后显示更多上下文\n",
    "    results.fragmenter.surround = 50\n",
    "    for index, result in enumerate(results):\n",
    "        if len(result['volume_title']):\n",
    "            print(f\"{index}. {result['book_title']} {result['volume_title']}·{result['chapter_title']}\")\n",
    "        else:\n",
    "            print(f\"{index}. {result['book_title']} {result['chapter_title']}\")\n",
    "        print(f\"{result['content']}\\n\")\n",
    "        #print(f\"... {result.highlights('content')} ...\\n\")"
   ]
  },
  {
   "cell_type": "code",
   "execution_count": 345,
   "id": "c78039a7-376d-4864-ab4a-81c6aa21cc77",
   "metadata": {
    "editable": true,
    "slideshow": {
     "slide_type": ""
    },
    "tags": []
   },
   "outputs": [
    {
     "name": "stdout",
     "output_type": "stream",
     "text": [
      "一共发现17个结果。\n",
      "\n",
      "0. 周易 上经·第十二卦 ䷋否 地天否 乾上坤下\n",
      "... 六二：包承。<b class=\"match term0\">小人</b>吉，<b class=\"match term1\">大人</b>否，亨 ...\n",
      "\n",
      "1. 孟子 告子章句上·第十五节\n",
      "... 孟子曰：“从其大体为<b class=\"match term1\">大人</b>，从其小体为<b class=\"match term0\">小人</b> ...\n",
      "\n",
      "2. 墨子 44章 大取\n",
      "... 圣人之爱人也；其利人也，厚于圣人之利人也。<b class=\"match term1\">大人</b>之爱<b class=\"match term0\">小人</b>也，薄于<b class=\"match term0\">小人</b>之爱<b class=\"match term1\">大人</b>也；其利<b class=\"match term0\">小人</b>也，厚于<b class=\"match term0\">小人</b>之利<b class=\"match term1\">大人</b>也。以臧为其亲也，而爱之，非爱其亲也；以臧为 ...\n",
      "\n",
      "3. 论语 季氏篇\n",
      "... 孔子曰：“君子有三畏：畏天命，畏<b class=\"match term1\">大人</b>，畏圣人之言。<b class=\"match term0\">小人</b>不知天命而不畏也，狎<b class=\"match term1\">大人</b>，侮圣人之言 ...\n",
      "\n",
      "4. 孟子 告子章句上·第十五节\n",
      "... 公都子问曰：“钧是人也，或为<b class=\"match term1\">大人</b>，或为<b class=\"match term0\">小人</b>，何也 ...\n",
      "\n",
      "5. 战国策 东周·杜赫欲重景翠于周\n",
      "... 有鸟无鸟之际，然后能多得鸟矣。今君将施于<b class=\"match term1\">大人</b>，<b class=\"match term1\">大人</b>轻君；施于<b class=\"match term0\">小人</b>，<b class=\"match term0\">小人</b>无可以求，又费财焉。君必施于今之穷士，不必...为<b class=\"match term1\">大人</b>者，故能得欲矣 ...\n",
      "\n",
      "6. 易传 象传下·革\n",
      "... 也。革言三就，又何之矣。改命之吉，信志也。<b class=\"match term1\">大人</b>虎变，其文炳也。君子豹变，其文蔚也...<b class=\"match term0\">小人</b>革面，顺以从君也 ...\n",
      "\n",
      "7. 墨子 71章 杂守\n",
      "... 子墨子曰：凡不守者有五：城<b class=\"match term1\">大人</b>少，一不守也；城<b class=\"match term0\">小人</b>众，二不守也；人众食寡，三不守也；市去 ...\n",
      "\n",
      "8. 孟子 滕文公章句上·第四节\n",
      "... 然则治天下独可耕且为与？有<b class=\"match term1\">大人</b>之事，有<b class=\"match term0\">小人</b>之事。且一人之身，而百工之所为备。如必自为 ...\n",
      "\n",
      "9. 慎子 逸文\n",
      "... <b class=\"match term0\">小人</b>食于力，君子食于道，先王之训也。故常欲耕而食天下之人矣，然一身之耕，分诸天下，不能人得一升粟...而求其说，通圣人之言而究其旨，上说王公<b class=\"match term1\">大人</b>，次匹夫徒步之士。王公<b class=\"match term1\">大人</b>用吾言，国必治；匹夫徒步之士用吾言 ...\n",
      "\n",
      "10. 黄帝四经 十大经·雌雄节\n",
      "... 凡人好用雄节，是谓妨生。<b class=\"match term1\">大人</b>则毁，<b class=\"match term0\">小人</b>则亡。以守不宁，以作事不成。以求不得，以战 ...\n",
      "\n",
      "11. 礼记 缁衣\n",
      "... 子曰：“<b class=\"match term0\">小人</b>溺于水，君子溺于口，<b class=\"match term1\">大人</b>溺于民，皆在其所亵也。夫水近于人而溺人，德易 ...\n",
      "\n",
      "12. 文子 卷六·上德\n",
      "... 藏也。雷之动也，万物启，雨之润也，万物解，<b class=\"match term1\">大人</b>施行，有似於此。阴阳之动有常节，<b class=\"match term1\">大人</b>之动不极物。<b class=\"match term1\">大人</b>之盛也，如春之雷。其发令也，如暄之风。皆聋和气顺...故不极物。雷动地，万物缓，风摇树，草木败。<b class=\"match term1\">大人</b>去恶就善，民不远徒，故民有去就也，去尤甚...风不动，火不出，<b class=\"match term1\">大人</b>不言，<b class=\"match term0\">小人</b>无述。火之出也，必待薪，<b class=\"match term1\">大人</b>之言，必有信。有信而真，何往不成？火出而薪传 ...\n",
      "\n",
      "13. 墨子 32章 非乐(上)\n",
      "... 今王公<b class=\"match term1\">大人</b>虽无造为乐器，以为事乎国家，非直...曰：“舟用之水，车用之陆，君子息其足焉，<b class=\"match term0\">小人</b>休其肩背焉。”故万民出财赍而予之，不敢以为 ...\n",
      "\n",
      "14. 孟子 告子章句上·第十四节\n",
      "... 无以小害大，无以贱害贵。养其小者为<b class=\"match term0\">小人</b>，养其大者为<b class=\"match term1\">大人</b>。今有场师，舍其梧槚，养其樲棘，则为贱场师焉 ...\n",
      "\n",
      "15. 礼记 乐记\n",
      "... 是故情见而义立，乐终而德尊。君子以好善，<b class=\"match term0\">小人</b>以听过。故曰：生民之道，乐为大焉。乐也者施也...而凝是精粗之体，领父子君臣之节。是故<b class=\"match term1\">大人</b>举礼乐，则天地将为昭焉。天地欣合，阴阳相得 ...\n",
      "\n",
      "16. 文子 卷五·道德\n",
      "... 自明执雄，坚强作难结怨为兵，主为乱首，<b class=\"match term0\">小人</b>行之，身受大殃，<b class=\"match term1\">大人</b>行之，国家灭亡，浅及其身，深及子孙。夫罪莫大 ...\n",
      "\n"
     ]
    }
   ],
   "source": [
    "# 创建一个检索器\n",
    "ix = GetBookIndex(bookspath)\n",
    "searcher = ix.searcher()\n",
    "\n",
    "# 检索 content 中出现\"大人\"的文档\n",
    "results = searcher.find(\"content\", \"小人 AND 大人\", limit=None)\n",
    "print('一共发现%d个结果。\\n' % len(results))\n",
    "\n",
    "for index, result in enumerate(results):\n",
    "    if len(result['volume_title']):\n",
    "        print(f\"{index}. {result['book_title']} {result['volume_title']}·{result['chapter_title']}\")\n",
    "    else:\n",
    "        print(f\"{index}. {result['book_title']} {result['chapter_title']}\")\n",
    "    print(f\"... {result.highlights('content')} ...\\n\")"
   ]
  },
  {
   "cell_type": "code",
   "execution_count": 223,
   "id": "c59359c6-bbe4-441d-8b15-cff55f61a3eb",
   "metadata": {},
   "outputs": [
    {
     "name": "stdout",
     "output_type": "stream",
     "text": [
      "一共发现2个结果。\n",
      "\n",
      "0. 周易 上经·第十二卦 ䷋否 地天否 乾上坤下\n",
      "... 六二：包承。<b class=\"match term0\">小人</b>吉，<b class=\"match term1\">大人</b>否，亨 ...\n",
      "\n",
      "1. 论语 季氏篇\n",
      "... 孔子曰：“君子有三畏：畏天命，畏<b class=\"match term1\">大人</b>，畏圣人之言。<b class=\"match term0\">小人</b>不知天命而不畏也，狎<b class=\"match term1\">大人</b>，侮圣人之言 ...\n",
      "\n"
     ]
    }
   ],
   "source": [
    "# 创建一个检索器\n",
    "ix = GetBookIndex(bookspath)\n",
    "with ix.searcher() as searcher:\n",
    "    query = QueryParser(\"content\", ix.schema).parse(\"小人 AND 大人\")\n",
    "    tile_query = [Term('book_title', '论语'), Term('book_title', '周易')]\n",
    "    content_query = [Term('content', '大人'), Term('content', '小人')]\n",
    "    query = compound.And([compound.Or(tile_query), compound.And(content_query)])\n",
    "    \n",
    "    results = searcher.search(query, limit=None)\n",
    "    print('一共发现%d个结果。\\n' % len(results))\n",
    "\n",
    "    # 允许被检索到的文字内容包含的最大的字符数\n",
    "    results.fragmenter.maxchars = 300\n",
    "    # 在被检索到的文字之前和之后显示更多上下文\n",
    "    results.fragmenter.surround = 60\n",
    "    \n",
    "    for index, result in enumerate(results):\n",
    "        if len(result['volume_title']):\n",
    "            print(f\"{index}. {result['book_title']} {result['volume_title']}·{result['chapter_title']}\")\n",
    "        else:\n",
    "            print(f\"{index}. {result['book_title']} {result['chapter_title']}\")\n",
    "        #print(f\"{result['content']}\\n\")\n",
    "        print(f\"... {result.highlights('content')} ...\\n\")"
   ]
  },
  {
   "cell_type": "markdown",
   "id": "e935b5ea-f5bb-4fd3-9144-f5490aca7bb8",
   "metadata": {},
   "source": [
    "### Test for display html "
   ]
  },
  {
   "cell_type": "code",
   "execution_count": 232,
   "id": "d9a0c0a0-d74a-412e-b78e-cc41bf73931a",
   "metadata": {},
   "outputs": [
    {
     "data": {
      "text/html": [
       "<p>Hello, world!</p>"
      ],
      "text/plain": [
       "<IPython.core.display.HTML object>"
      ]
     },
     "metadata": {},
     "output_type": "display_data"
    }
   ],
   "source": [
    "from IPython.display import display, HTML\n",
    "display(HTML('<p>Hello, world!</p>'))"
   ]
  },
  {
   "cell_type": "code",
   "execution_count": 227,
   "id": "5a455c73-a4d0-427d-8893-f8c253e447d6",
   "metadata": {},
   "outputs": [
    {
     "name": "stdout",
     "output_type": "stream",
     "text": [
      "一共发现17个结果。\n",
      "\n"
     ]
    },
    {
     "data": {
      "text/html": [
       "0. 山海经 山经·北山经"
      ],
      "text/plain": [
       "<IPython.core.display.HTML object>"
      ]
     },
     "metadata": {},
     "output_type": "display_data"
    },
    {
     "data": {
      "text/html": [
       "于泑泽。有兽焉，其状如禺而文身，善笑，见<b class=\"match term0\">人</b>则卧，名曰<b class=\"match term1\">幽</b>鴳，其鸣自呼\n"
      ],
      "text/plain": [
       "<IPython.core.display.HTML object>"
      ]
     },
     "metadata": {},
     "output_type": "display_data"
    },
    {
     "data": {
      "text/html": [
       "1. 管子 形势解"
      ],
      "text/plain": [
       "<IPython.core.display.HTML object>"
      ]
     },
     "metadata": {},
     "output_type": "display_data"
    },
    {
     "data": {
      "text/html": [
       "之猛者也，居深林广泽之中则人畏其威而载之。<b class=\"match term0\">人</b>主，天下之有势者也，深居则人畏其势。故虎豹去...<b class=\"match term1\">幽</b>而近于<b class=\"match term0\">人</b>，则<b class=\"match term0\">人</b>得之而易其威。人主去其门而迫于民，则民轻\n"
      ],
      "text/plain": [
       "<IPython.core.display.HTML object>"
      ]
     },
     "metadata": {},
     "output_type": "display_data"
    },
    {
     "data": {
      "text/html": [
       "2. 管子 形势解"
      ],
      "text/plain": [
       "<IPython.core.display.HTML object>"
      ]
     },
     "metadata": {},
     "output_type": "display_data"
    },
    {
     "data": {
      "text/html": [
       "古者三王五伯皆<b class=\"match term0\">人</b>主之利天下者也，故身贵显而子孙被其泽...纣、<b class=\"match term1\">幽</b>、厉皆人主之害天下者也，故身困伤而子孙蒙其祸\n"
      ],
      "text/plain": [
       "<IPython.core.display.HTML object>"
      ]
     },
     "metadata": {},
     "output_type": "display_data"
    },
    {
     "data": {
      "text/html": [
       "3. 大戴礼记 诰志第七十一"
      ],
      "text/plain": [
       "<IPython.core.display.HTML object>"
      ]
     },
     "metadata": {},
     "output_type": "display_data"
    },
    {
     "data": {
      "text/html": [
       "丘闻周太史曰：‘政不率天，下不由<b class=\"match term0\">人</b>，则凡事易坏而难成。’虞史伯夷曰：‘明，孟也。<b class=\"match term1\">幽</b>，幼也。明幽，雌雄也。雌雄迭兴而顺至，正之统也。日\n"
      ],
      "text/plain": [
       "<IPython.core.display.HTML object>"
      ]
     },
     "metadata": {},
     "output_type": "display_data"
    },
    {
     "data": {
      "text/html": [
       "4. 吕氏春秋 览·离俗览"
      ],
      "text/plain": [
       "<IPython.core.display.HTML object>"
      ]
     },
     "metadata": {},
     "output_type": "display_data"
    },
    {
     "data": {
      "text/html": [
       "事。由此观之，物岂可全哉？故君子责人则以<b class=\"match term0\">人</b>，自责则以义。责人以<b class=\"match term0\">人</b>则易足，易足则得<b class=\"match term0\">人</b>；自责以义则难为非，难为非则行饰。故任天地而...馀。不肖者则不然。责人则以义，自责则以<b class=\"match term0\">人</b>。责人以义责难瞻，难瞻则失亲；自责以人则易为...之大而不容也，身取危，国取亡焉。此桀、纣、<b class=\"match term1\">幽</b>、厉之行也。尺之木必有节目，寸之玉必有瑕\n"
      ],
      "text/plain": [
       "<IPython.core.display.HTML object>"
      ]
     },
     "metadata": {},
     "output_type": "display_data"
    },
    {
     "data": {
      "text/html": [
       "5. 墨子 27章 天志(中)"
      ],
      "text/plain": [
       "<IPython.core.display.HTML object>"
      ]
     },
     "metadata": {},
     "output_type": "display_data"
    },
    {
     "data": {
      "text/html": [
       "富有天下，名誉至今不息。故夫爱人、利<b class=\"match term0\">人</b>，顺天之意，得天之赏者，既可得留而已。夫憎<b class=\"match term0\">人</b>、贼人，反天之意，得天之罚者，谁也？曰：若昔者三代...桀、纣、<b class=\"match term1\">幽</b>、厉者是也。桀、纣、<b class=\"match term1\">幽</b>、厉，焉所从事？曰：从事别，不从事兼。别者，处大国则...其事，上不利乎天，中不利乎鬼，下不利乎<b class=\"match term0\">人</b>，三不利无所利，是谓天贼。聚敛天下之丑名\n"
      ],
      "text/plain": [
       "<IPython.core.display.HTML object>"
      ]
     },
     "metadata": {},
     "output_type": "display_data"
    },
    {
     "data": {
      "text/html": [
       "6. 吕氏春秋 论·不苟论"
      ],
      "text/plain": [
       "<IPython.core.display.HTML object>"
      ]
     },
     "metadata": {},
     "output_type": "display_data"
    },
    {
     "data": {
      "text/html": [
       "有以求良狗，狗良则数得兽矣，田猎之获常过<b class=\"match term0\">人</b>矣。非独猎也，百事也尽然。霸王有不先耕而成霸王...所以殊也。贤不肖之所欲与人同，尧、桀、<b class=\"match term1\">幽</b>、厉皆然，所以为之异。故贤主察之，以为不可，弗为\n"
      ],
      "text/plain": [
       "<IPython.core.display.HTML object>"
      ]
     },
     "metadata": {},
     "output_type": "display_data"
    },
    {
     "data": {
      "text/html": [
       "7. 国语 周语·刘文公与苌弘欲城周"
      ],
      "text/plain": [
       "<IPython.core.display.HTML object>"
      ]
     },
     "metadata": {},
     "output_type": "display_data"
    },
    {
     "data": {
      "text/html": [
       "而作此诗也，以为饫歌，名之曰支，以遗后之<b class=\"match term0\">人</b>，使永监焉。夫礼之立成者为饫，昭明大节而已，少典...者，必尽知天地之为也，不然不足以遗后之<b class=\"match term0\">人</b>。今苌、刘欲支天之所坏，不亦难乎？自幽王而天夺之明...高山、广川、大薮也，故能生是良材，而<b class=\"match term1\">幽</b>王荡以为魅陵、粪土、沟渎，其有悛乎\n"
      ],
      "text/plain": [
       "<IPython.core.display.HTML object>"
      ]
     },
     "metadata": {},
     "output_type": "display_data"
    },
    {
     "data": {
      "text/html": [
       "8. 战国策 秦五·四国为一将以攻秦"
      ],
      "text/plain": [
       "<IPython.core.display.HTML object>"
      ]
     },
     "metadata": {},
     "output_type": "display_data"
    },
    {
     "data": {
      "text/html": [
       "用之而王。管仲，其鄙人之贾人也，南阳之弊<b class=\"match term1\">幽</b>，鲁之免囚，桓公用之而伯。百里奚，虞之乞<b class=\"match term0\">人</b>，传卖以五羊之皮，穆公相之而朝西戎。文公用中山\n"
      ],
      "text/plain": [
       "<IPython.core.display.HTML object>"
      ]
     },
     "metadata": {},
     "output_type": "display_data"
    },
    {
     "data": {
      "text/html": [
       "9. 荀子 王霸"
      ],
      "text/plain": [
       "<IPython.core.display.HTML object>"
      ]
     },
     "metadata": {},
     "output_type": "display_data"
    },
    {
     "data": {
      "text/html": [
       "造父者，善服驭者也。聪明君子者，善服<b class=\"match term0\">人</b> 者也。人服而埶从之，<b class=\"match term0\">人</b>不服而埶去之，故王者已于服人矣。故人主欲得...夫贵为天子，富有天下，名为 圣王，兼制<b class=\"match term0\">人</b>，人莫得而制也，是人情之所同欲也，而王者兼而...以陈，政令以挟，官人失要则死，公侯失礼则<b class=\"match term1\">幽</b>，四方之国，有侈离之德则必 灭，名声若日月，功绩\n"
      ],
      "text/plain": [
       "<IPython.core.display.HTML object>"
      ]
     },
     "metadata": {},
     "output_type": "display_data"
    },
    {
     "data": {
      "text/html": [
       "10. 墨子 28章 天志(下)"
      ],
      "text/plain": [
       "<IPython.core.display.HTML object>"
      ]
     },
     "metadata": {},
     "output_type": "display_data"
    },
    {
     "data": {
      "text/html": [
       "不辜者，必有一不祥。曰：“谁杀不辜？”曰：“<b class=\"match term0\">人</b>也。”“孰予之不辜？”曰：“天也。”若天之中实不爱此民也...而<b class=\"match term0\">人</b>有杀不辜，而天予之不祥哉？且天之爱百姓厚矣...知赏善之证。是故昔也三代之暴王，桀、纣、<b class=\"match term1\">幽</b>、厉之兼恶天下也，从而贼之，移其百姓之意焉。率以\n"
      ],
      "text/plain": [
       "<IPython.core.display.HTML object>"
      ]
     },
     "metadata": {},
     "output_type": "display_data"
    },
    {
     "data": {
      "text/html": [
       "11. 吕氏春秋 览·审分览"
      ],
      "text/plain": [
       "<IPython.core.display.HTML object>"
      ]
     },
     "metadata": {},
     "output_type": "display_data"
    },
    {
     "data": {
      "text/html": [
       "况於人主乎？人主知能不能之可以君民也，则<b class=\"match term1\">幽</b>诡愚险之言无不职矣，百官有司之事毕力竭智...三王之君民也，下固不过毕力竭智也。夫君<b class=\"match term0\">人</b>而知无恃其能勇力诚信，则近之矣\n"
      ],
      "text/plain": [
       "<IPython.core.display.HTML object>"
      ]
     },
     "metadata": {},
     "output_type": "display_data"
    },
    {
     "data": {
      "text/html": [
       "12. 庄子 外篇·在宥"
      ],
      "text/plain": [
       "<IPython.core.display.HTML object>"
      ]
     },
     "metadata": {},
     "output_type": "display_data"
    },
    {
     "data": {
      "text/html": [
       "不可系者，其唯人心乎！昔者黄帝始以仁义撄<b class=\"match term0\">人</b>之心，尧、舜于是乎股无胈，胫无毛，以养天下...于是放驩兜于崇山，投三苗于三峗，流共工于<b class=\"match term1\">幽</b>都，此不胜天下也。夫施及三王而天下大骇矣。下有\n"
      ],
      "text/plain": [
       "<IPython.core.display.HTML object>"
      ]
     },
     "metadata": {},
     "output_type": "display_data"
    },
    {
     "data": {
      "text/html": [
       "13. 尹文子 大道上"
      ],
      "text/plain": [
       "<IPython.core.display.HTML object>"
      ]
     },
     "metadata": {},
     "output_type": "display_data"
    },
    {
     "data": {
      "text/html": [
       "汤、武之成，或顺或逆，得时则昌；桀、纣、<b class=\"match term1\">幽</b>、厉之败，或是或非，失时则亡。五伯之主亦然。宋公以...为是。故人君处权乘势，处所是之地，则<b class=\"match term0\">人</b>所不得非也。居则物尊之，动则物从之，言则物诚\n"
      ],
      "text/plain": [
       "<IPython.core.display.HTML object>"
      ]
     },
     "metadata": {},
     "output_type": "display_data"
    },
    {
     "data": {
      "text/html": [
       "14. 文子 卷三·九守"
      ],
      "text/plain": [
       "<IPython.core.display.HTML object>"
      ]
     },
     "metadata": {},
     "output_type": "display_data"
    },
    {
     "data": {
      "text/html": [
       "胆为云，肺为气，脾为风，肾为雨，肝为雷，<b class=\"match term0\">人</b>与天地相类，而心为之主。心为身主，总统五藏、六府...於邪，则悖之气散，而精神之用明，微无不照，<b class=\"match term1\">幽</b>无不察，事无不济，为无不成也。患祸无由入，邪气...滑心，使行飞扬，故嗜欲使人气淫，好憎使<b class=\"match term0\">人</b>精劳，不疾去之，则志气日耗。精气泄漏，则形神日逝\n"
      ],
      "text/plain": [
       "<IPython.core.display.HTML object>"
      ]
     },
     "metadata": {},
     "output_type": "display_data"
    },
    {
     "data": {
      "text/html": [
       "15. 尔雅 释言"
      ],
      "text/plain": [
       "<IPython.core.display.HTML object>"
      ]
     },
     "metadata": {},
     "output_type": "display_data"
    },
    {
     "data": {
      "text/html": [
       "暴也。宨，肆也。肆，力也。俅，戴也。瘗，<b class=\"match term1\">幽</b>也。[B143]，罽也。烘，燎也。煁，烓也。陪，朝也。康，苛也...重也。猎，虐也。土，田也。戍，遏也。师，<b class=\"match term0\">人</b>也。硈，巩也。弃，忘也。嚣，闲也。谋，心也。献，圣也。里，邑也...气也。宅，居也。休，庆也。祈，叫也。濬、<b class=\"match term1\">幽</b>，深也。哲，智也。弄，玩也。尹，正也。皇、匡，正也。服，整也。聘\n"
      ],
      "text/plain": [
       "<IPython.core.display.HTML object>"
      ]
     },
     "metadata": {},
     "output_type": "display_data"
    },
    {
     "data": {
      "text/html": [
       "16. 礼记 礼运"
      ],
      "text/plain": [
       "<IPython.core.display.HTML object>"
      ]
     },
     "metadata": {},
     "output_type": "display_data"
    },
    {
     "data": {
      "text/html": [
       "孔子曰：“于呼哀哉！我观周道，<b class=\"match term1\">幽</b>、厉伤之，吾舍鲁何适矣！鲁之郊禘，非礼也，周公其衰...也；玩其所乐，民之治也。故天生时而地生财，<b class=\"match term0\">人</b>其父生而师教之：四者，君以正用之，故君者立于\n"
      ],
      "text/plain": [
       "<IPython.core.display.HTML object>"
      ]
     },
     "metadata": {},
     "output_type": "display_data"
    }
   ],
   "source": [
    "from IPython.display import display, HTML\n",
    "\n",
    "# 创建一个检索器\n",
    "ix = GetBookIndex(bookspath)\n",
    "searcher = ix.searcher()\n",
    "\n",
    "# 检索 content 中出现\"大人\"的文档\n",
    "# 查 幽人贞吉 能查出来幽人，查 幽人 查不出来，应该有问题\n",
    "results = searcher.find(\"content\", \"幽人\", limit=None)\n",
    "print('一共发现%d个结果。\\n' % len(results))\n",
    "\n",
    "for index, result in enumerate(results):\n",
    "    if len(result['volume_title']):\n",
    "        display(HTML(f\"{index}. {result['book_title']} {result['volume_title']}·{result['chapter_title']}\"))\n",
    "    else:\n",
    "        display(HTML(f\"{index}. {result['book_title']} {result['chapter_title']}\"))\n",
    "    display(HTML(f\"{result.highlights('content')}\\n\"))"
   ]
  }
 ],
 "metadata": {
  "kernelspec": {
   "display_name": "Python 3 (ipykernel)",
   "language": "python",
   "name": "python3"
  },
  "language_info": {
   "codemirror_mode": {
    "name": "ipython",
    "version": 3
   },
   "file_extension": ".py",
   "mimetype": "text/x-python",
   "name": "python",
   "nbconvert_exporter": "python",
   "pygments_lexer": "ipython3",
   "version": "3.10.12"
  }
 },
 "nbformat": 4,
 "nbformat_minor": 5
}
