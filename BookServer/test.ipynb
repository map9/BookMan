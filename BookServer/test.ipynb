{
 "cells": [
  {
   "cell_type": "code",
   "execution_count": 20,
   "id": "4ae7d90f-157f-4e30-ba90-e275a9af1374",
   "metadata": {},
   "outputs": [
    {
     "name": "stderr",
     "output_type": "stream",
     "text": [
      "08/30/2023 11:51:17 AM (levelname)s: test\n"
     ]
    }
   ],
   "source": [
    "import logging\n",
    "\n",
    "logging.basicConfig(format='%(asctime)s (levelname)s: %(message)s', datefmt='%m/%d/%Y %I:%M:%S %p', level=logging.DEBUG, force=True)\n",
    "#logger = logging.getLogger()\n",
    "#logger.setLevel(logging.INFO)\n",
    "logging.error(\"test\")"
   ]
  },
  {
   "cell_type": "code",
   "execution_count": 21,
   "id": "772a66a2-870a-4ae8-9b9b-d8df9801215c",
   "metadata": {},
   "outputs": [
    {
     "name": "stderr",
     "output_type": "stream",
     "text": [
      "08/30/2023 11:51:18 AM (levelname)s: test     sdafdasf\n"
     ]
    }
   ],
   "source": [
    "logging.warning(\"test     sdafdasf\")"
   ]
  },
  {
   "cell_type": "code",
   "execution_count": 22,
   "id": "cb15a189-d019-4a46-b34a-b0740d07d805",
   "metadata": {},
   "outputs": [
    {
     "name": "stderr",
     "output_type": "stream",
     "text": [
      "08/30/2023 11:51:19 AM (levelname)s: is when this event was logged.\n"
     ]
    }
   ],
   "source": [
    "logging.warning('is when this event was logged.')"
   ]
  },
  {
   "cell_type": "code",
   "execution_count": 24,
   "id": "98d5d08f-5140-43d9-85f9-ae4f70666c85",
   "metadata": {},
   "outputs": [
    {
     "name": "stdout",
     "output_type": "stream",
     "text": [
      "   Left Aligned Text\n"
     ]
    }
   ],
   "source": [
    "print(f\"{'Left Aligned Text' : >20}\")"
   ]
  },
  {
   "cell_type": "code",
   "execution_count": 43,
   "id": "2be59df9-eaa9-4448-a555-13ef78f0e159",
   "metadata": {},
   "outputs": [
    {
     "name": "stderr",
     "output_type": "stream",
     "text": [
      "08/30/2023 12:35:09 PM (levelname)s:      L0This is a test.\n",
      "08/30/2023 12:35:09 PM (levelname)s: L0This is a test.\n",
      "08/30/2023 12:35:09 PM (levelname)s:   L1This is a test.\n",
      "08/30/2023 12:35:09 PM (levelname)s:     L2This is a test.\n",
      "08/30/2023 12:35:09 PM (levelname)s:       L3This is a test.\n",
      "08/30/2023 12:35:09 PM (levelname)s:         L4This is a test.\n",
      "08/30/2023 12:35:09 PM (levelname)s:           L5This is a test.\n",
      "08/30/2023 12:35:09 PM (levelname)s:             L6This is a test.\n",
      "08/30/2023 12:35:09 PM (levelname)s:               L7This is a test.\n",
      "08/30/2023 12:35:09 PM (levelname)s:                 L8This is a test.\n",
      "08/30/2023 12:35:09 PM (levelname)s:                   L9This is a test.\n"
     ]
    }
   ],
   "source": [
    "logging.debug(f\"     L0This is a test.\") \n",
    "for space in range(0,10):\n",
    "    logging.debug(f\"{'': <{space*2}}L{space}This is a test.\") "
   ]
  },
  {
   "cell_type": "code",
   "execution_count": null,
   "id": "6d94c9a9-3ed1-4dc5-be31-e61598e13cb3",
   "metadata": {},
   "outputs": [],
   "source": []
  }
 ],
 "metadata": {
  "kernelspec": {
   "display_name": "Python 3 (ipykernel)",
   "language": "python",
   "name": "python3"
  },
  "language_info": {
   "codemirror_mode": {
    "name": "ipython",
    "version": 3
   },
   "file_extension": ".py",
   "mimetype": "text/x-python",
   "name": "python",
   "nbconvert_exporter": "python",
   "pygments_lexer": "ipython3",
   "version": "3.10.12"
  }
 },
 "nbformat": 4,
 "nbformat_minor": 5
}
