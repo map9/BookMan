{
 "cells": [
  {
   "cell_type": "code",
   "execution_count": 1,
   "id": "10fb94f1-3f72-46e4-ac17-45d30c1378b5",
   "metadata": {
    "tags": []
   },
   "outputs": [],
   "source": [
    "import os\n",
    "import re\n",
    "import json\n",
    "import logging\n",
    "\n",
    "#logging.basicConfig(filename='booksearch.log', encoding='utf-8', level=logging.DEBUG)\n",
    "logging.basicConfig(level=logging.WARNING, format='%(asctime)s (levelname)s: %(message)s', datefmt='%Y/%m/%d %I:%M:%S %p', force=True)"
   ]
  },
  {
   "cell_type": "code",
   "execution_count": 2,
   "id": "ed9d6879-cf3f-44e4-8f6d-f58e0402341b",
   "metadata": {},
   "outputs": [],
   "source": [
    "# 对带小括号的字符串解码\n",
    "# reference from: stackoverflow.com/questions/14952113/how-can-i-match-nested-brackets-using-regex\n",
    "def _parse_to_list(s, i=0):\n",
    "    result = []\n",
    "    while i < len(s):\n",
    "        if s[i] == '(':\n",
    "            i, r = _parse_to_list(s, i+1)\n",
    "            result.append(r)\n",
    "        elif s[i] == ')':\n",
    "            return i+1, result\n",
    "        else:\n",
    "            result.append(s[i])\n",
    "            i += 1\n",
    "    return i, result"
   ]
  },
  {
   "cell_type": "code",
   "execution_count": 3,
   "id": "d62c2345-737b-44de-9fd7-cb9411c2017d",
   "metadata": {},
   "outputs": [],
   "source": [
    "# 对带小括号的字符串解码为嵌套的list\n",
    "def _parse_nestedbrackets_to_list(s, i = 0, level = 0):\n",
    "    result = []\n",
    "    content = ''\n",
    "    while i < len(s):\n",
    "        if s[i] == '(':\n",
    "            if len(content):\n",
    "                logging.debug(f\"L{level}, {content}\")\n",
    "                result.append(content)\n",
    "                content = ''\n",
    "                \n",
    "            i, r, level = _parse_nestedbrackets_to_list(s, i + 1, level + 1)\n",
    "            result.append(r)\n",
    "            \n",
    "        elif s[i] == ')':\n",
    "            if len(content):\n",
    "                logging.debug(f\"L{level}, {content}\")\n",
    "                result.append(content)\n",
    "            return i+1, result, level - 1\n",
    "        else:\n",
    "            content += s[i]\n",
    "            i += 1\n",
    "            logging.debug(f\"L{level}, {content}\")\n",
    "\n",
    "    if len(content):\n",
    "        logging.debug(f\"L{level}, {content}\")\n",
    "        result.append(content)\n",
    "        content = ''\n",
    "        \n",
    "    return i, result, level"
   ]
  },
  {
   "cell_type": "code",
   "execution_count": 4,
   "id": "9e49c508-52c7-4f11-8190-3e45c8ebfb40",
   "metadata": {},
   "outputs": [
    {
     "data": {
      "text/plain": [
       "(74,\n",
       " ['h or ',\n",
       "  ['a and ', ['b or c and not ', ['f or g']]],\n",
       "  ' and ',\n",
       "  ['not e'],\n",
       "  ' or k or j and ',\n",
       "  ['i and m']],\n",
       " 0)"
      ]
     },
     "execution_count": 4,
     "metadata": {},
     "output_type": "execute_result"
    }
   ],
   "source": [
    "# 测试嵌套括号的解码\n",
    "text = \"(大人 or 小人) and not 君子\"\n",
    "text = \"h or (a and (b or c and not (f or g))) and (not e) or k or j and (i and m)\"\n",
    "#text = \"a and and b or c\"\n",
    "_parse_nestedbrackets_to_list(text)"
   ]
  },
  {
   "cell_type": "code",
   "execution_count": 5,
   "id": "815d88ab-5a7b-4737-b1eb-119d9b1c9bb9",
   "metadata": {
    "tags": []
   },
   "outputs": [],
   "source": [
    "def _judge_condition(conditiona, conditionb, operator):\n",
    "    \"\"\"\n",
    "    给出两个条件的结果\n",
    "    \"\"\"\n",
    "    assert conditiona is not None or conditionb is not None\n",
    "    if conditiona is None and conditionb is not None:\n",
    "        return conditionb\n",
    "    if conditionb is None and conditiona is not None:\n",
    "        return conditiona\n",
    "    \n",
    "    assert operator == 'AND' or operator == 'OR'\n",
    "    if operator == 'AND':\n",
    "        return conditiona and conditionb\n",
    "    elif operator == 'OR':\n",
    "        return conditiona or conditionb\n",
    "    else:\n",
    "        logging.error(f\"Error in A: {conditiona}, B: {conditionb}, operator: {operator}.\")"
   ]
  },
  {
   "cell_type": "code",
   "execution_count": 6,
   "id": "34eebed3-c0d3-4bdf-a3f2-cc7977f3c04c",
   "metadata": {
    "tags": []
   },
   "outputs": [],
   "source": [
    "def _excute_signle_query(query, cobject, last_condition=None, operator=None, not_operator=False, level = 0):\n",
    "    \"\"\"\n",
    "    执行不嵌套的查询语句，这个查询语句的前一个条件，如有，则为last\n",
    "    operator = AND | OR | NOT | AND + NOT | OR + NOT\n",
    "    query one = condition + operator + [query one]\n",
    "    query two = operator\n",
    "    query three = operator + condition + [query two | query three]\n",
    "    NOTE: 应该处理当条件已经变成FALSE后，就不应该在往下处理。\n",
    "    \"\"\"\n",
    "    operator = operator\n",
    "    not_operator = not_operator\n",
    "    last_condition = last_condition\n",
    "    result = last_condition\n",
    "    condition = None\n",
    "    for index, word in enumerate(query):\n",
    "        if len(word) == 0:\n",
    "            continue\n",
    "        upper_word = word.upper()\n",
    "        if upper_word == 'AND' or upper_word == 'OR':\n",
    "            operator = upper_word\n",
    "        elif upper_word == 'NOT':\n",
    "            not_operator = True\n",
    "        else:\n",
    "            match = [m.start() for m in re.finditer(word, cobject['content'])]\n",
    "            condition = True if len(match) else False\n",
    "\n",
    "            if not_operator:\n",
    "                condition = not condition\n",
    "                not_operator = False\n",
    "            if last_condition is not None:\n",
    "                result = _judge_condition(last_condition, condition, operator)\n",
    "                operator = None\n",
    "                last_condition = result\n",
    "            else:\n",
    "                last_condition = condition\n",
    "                condition = None\n",
    "        logging.debug(f\"{'': <{level*2}}{index}: {word}, A: {last_condition}, B: {condition}, operator: {operator}, not: {not_operator}.\")\n",
    "    return last_condition, operator, not_operator"
   ]
  },
  {
   "cell_type": "code",
   "execution_count": 7,
   "id": "6c89ba8d-9dfe-4d8c-902b-9e1cdadd6c1e",
   "metadata": {
    "tags": []
   },
   "outputs": [],
   "source": [
    "def _excute_query(querylist, cobject, last_condition = None, operator = None, not_operator = False, level = 0):\n",
    "    \"\"\"\n",
    "    执行嵌套的查询语句。\n",
    "    querylist为parse_nestedbrackets_to_list获得的结果。\n",
    "    \"\"\"\n",
    "    last_condition = last_condition\n",
    "    operator = operator\n",
    "    not_operator = not_operator\n",
    "    level = level\n",
    "    for q in querylist:\n",
    "        if isinstance(q, list):\n",
    "            logging.debug(f\"{'': <{level*2}}L{level}, sub-query begin: {q}\")\n",
    "            sub_last_condition, sub_operator, sub_not_operator, _ = _excute_query(q, cobject, last_condition = None, operator = None, not_operator = False, level = level + 1)\n",
    "\n",
    "            if not_operator:\n",
    "                sub_last_condition = not sub_last_condition\n",
    "            not_operator = sub_not_operator\n",
    "            if last_condition is not None:\n",
    "                result = _judge_condition(last_condition, sub_last_condition, operator)\n",
    "                operator = sub_operator\n",
    "                last_condition = result\n",
    "            else:\n",
    "                last_condition = sub_last_condition\n",
    "            logging.debug(f\"{'': <{level*2}}L{level}, sub-query end: L: {last_condition}, operator: {operator}, not: {not_operator}.\")\n",
    "        else:\n",
    "            result = q.split(\" \")  # 以空格为分隔符分割字符串 \"apple banana cherry\"\n",
    "            logging.debug(f\"{'': <{level*2}}L{level}, query begin: \" + \"/\".join(result)) # 输出结果为 ['apple', 'banana', 'cherry']\n",
    "            last_condition, operator, not_operator = _excute_signle_query(result, cobject, last_condition = last_condition, operator = operator, not_operator = not_operator, level = level)\n",
    "            logging.debug(f\"{'': <{level*2}}L{level}, query end: L: {last_condition}, operator: {operator}, not: {not_operator}.\")\n",
    "            \n",
    "    return last_condition, operator, not_operator, level"
   ]
  },
  {
   "cell_type": "code",
   "execution_count": 8,
   "id": "7161527e-60c9-4f2a-97ec-c395e3122c17",
   "metadata": {
    "tags": []
   },
   "outputs": [],
   "source": [
    "# query: \"(content:大人 or content:小人) and not content:君子\"\n",
    "# cobject: {\n",
    "#     'book_title': book_title,\n",
    "#     'volume_title': volume_title,\n",
    "#     'chapter_title': chapter_title,\n",
    "#     'content': content\n",
    "# }\n",
    "def search(query, cobject):\n",
    "    _, querylist, _ = _parse_nestedbrackets_to_list(query)\n",
    "    result, _, _, _ = _excute_query(querylist, cobject)\n",
    "        \n",
    "    return result"
   ]
  },
  {
   "cell_type": "code",
   "execution_count": 9,
   "id": "fa32a353-9f83-4802-b363-d379e97a72c6",
   "metadata": {},
   "outputs": [
    {
     "data": {
      "text/plain": [
       "False"
      ]
     },
     "execution_count": 9,
     "metadata": {},
     "output_type": "execute_result"
    }
   ],
   "source": [
    "# 测试 excuteQuery\n",
    "cobject = {\n",
    "    'book_title': '',\n",
    "    'volume_title': '',\n",
    "    'chapter_title': '',\n",
    "    'content': \"天之爱人也，薄于圣人之爱人也；其利人也，厚于圣人之利人也。大人之爱小人也，薄于小人之爱大人也；其利小人也，厚于小人之利大人也。以臧为其亲也，而爱之，非爱其亲也；以臧为其亲也，而利之，非利其亲也。以乐为爱其子，而为其子欲之，爱其子也。以乐为利其子，而为其子求之，非利其子也。\"\n",
    "    #'content': \"密云不雨，君子\"\n",
    "    #'content': \"太公曰：“臣闻君子乐得其志，小人乐得其事。今吾渔甚有似也，殆非乐之也。”\"\n",
    "}\n",
    "\n",
    "query = \"((大人 or 小人) and (not 君子)) or 密云不雨\"\n",
    "#query = \"(not 君子)\"\n",
    "#query = \"大人\"\n",
    "#query = \"not (大人 or 小人) and (君子)\"\n",
    "query = \" 君子 and not (大人 or 小人)\"\n",
    "\n",
    "result = search(query, cobject)\n",
    "#result = search([\"大人\",\"and\",\"中人\"], cobject)\n",
    "result"
   ]
  },
  {
   "cell_type": "code",
   "execution_count": 10,
   "id": "d7448f1d-88e2-4828-abe3-7fea1c7bee76",
   "metadata": {},
   "outputs": [],
   "source": [
    "def querybook(filename, querylist, booklist, include):\n",
    "    \n",
    "    #print(filename)\n",
    "    pieces = []\n",
    "    with open(filename, 'r', encoding='utf-8') as file:\n",
    "        book = json.load(file)\n",
    "        book_title = book[\"title\"]\n",
    "        if booklist is not None:\n",
    "            bookin = True if book_title in booklist else False\n",
    "            if (bookin == True and include == False) or (bookin == False and include == True):\n",
    "                logging.info(f\"pass《{book_title}》...\")\n",
    "                return pieces, False\n",
    "                \n",
    "        description = book[\"description\"]\n",
    "        logging.info(f\"search in《{book_title}》...\")\n",
    "        for volume in book[\"volumes\"]:\n",
    "            volume_title = volume[\"title\"]\n",
    "            for chapter in volume[\"chapters\"]:\n",
    "                chapter_title = chapter[\"title\"]                \n",
    "                if (chapter.get(\"paragraphs\")):\n",
    "                    for paragraph in chapter[\"paragraphs\"]:\n",
    "                        content = paragraph[\"content\"]\n",
    "                        cobject = {\n",
    "                            'book_title': book_title,\n",
    "                            'volume_title': volume_title,\n",
    "                            'chapter_title': chapter_title,\n",
    "                            'content': content\n",
    "                        }\n",
    "                        result, _, _, _ = _excute_query(querylist, cobject)\n",
    "                        if result == True:\n",
    "                            pieces.append(cobject)\n",
    "        return pieces, True"
   ]
  },
  {
   "cell_type": "code",
   "execution_count": 11,
   "id": "e10a634d-143a-46e1-becf-627481177c97",
   "metadata": {
    "tags": []
   },
   "outputs": [],
   "source": [
    "import concurrent.futures\n",
    "def querybooks(bookspath, query, books, limit = 10):\n",
    "    # 解析 books.json 文件\n",
    "    filenames = os.listdir(bookspath)\n",
    "    filenames.sort()\n",
    "    filenames = [f\"{bookspath}/{filename}\" for filename in filenames if filename.endswith(\".json\")]\n",
    "    \n",
    "    total_pieces = []\n",
    "    _, querylist, _ = _parse_nestedbrackets_to_list(query)\n",
    "    \n",
    "    include = None\n",
    "    booklist = None\n",
    "    if len(books) > 0 and (books is not None):\n",
    "        if books[0] == '+':\n",
    "            include = True\n",
    "        elif books[0] == '-':\n",
    "            include = False\n",
    "        booklist = books[1:].split(\",\")\n",
    "            \n",
    "    # 非多线程方式\n",
    "    #for filename in filenames:\n",
    "    #    pieces = querybook(filename, querylist)\n",
    "    #    total_pieces = total_pieces + pieces\n",
    "\n",
    "    # 多线程方式\n",
    "    # 使用 ThreadPoolExecutor 对每个book的搜索启动一个线程进行处理\n",
    "    search_book_count = 0\n",
    "    with concurrent.futures.ThreadPoolExecutor(max_workers = 10, thread_name_prefix='s_thread') as executor:\n",
    "        futures = [executor.submit(lambda p: querybook(*p), (filename, querylist, booklist, include)) for filename in filenames]\n",
    "        # 等待每个线程执行完毕\n",
    "        for future in concurrent.futures.as_completed(futures):\n",
    "            pieces, search = future.result()\n",
    "            total_pieces = total_pieces + pieces #非线程安全\n",
    "            search_book_count = search_book_count + 1 if search == True else search_book_count\n",
    "     \n",
    "    if limit is not None:\n",
    "        return total_pieces[:10], len(total_pieces), search_book_count\n",
    "    else:\n",
    "        return total_pieces, len(total_pieces), search_book_count"
   ]
  },
  {
   "cell_type": "code",
   "execution_count": 12,
   "id": "f9191ff4-fbae-472a-8c08-985b429a7b63",
   "metadata": {
    "tags": []
   },
   "outputs": [],
   "source": [
    "bookspath = \"/Users/sunyafu/zebra/BookMan/BookServer/books\""
   ]
  },
  {
   "cell_type": "code",
   "execution_count": 13,
   "id": "0b914c24-d36c-4906-a387-f28ee6201025",
   "metadata": {},
   "outputs": [],
   "source": [
    "def output(results):\n",
    "    for index, result in enumerate(results):\n",
    "        if len(result['volume_title']):\n",
    "            print(f\"{index}. {result['book_title']} {result['volume_title']}·{result['chapter_title']}\")\n",
    "        else:\n",
    "            print(f\"{index}. {result['book_title']} {result['chapter_title']}\")\n",
    "        #print(f\"... {result.highlights('content')} ...\\n\")\n",
    "        print(f\"... {result['content']} ...\\n\") "
   ]
  },
  {
   "cell_type": "code",
   "execution_count": 14,
   "id": "9a779e15-e637-4dd7-a63e-eabeaf1803d2",
   "metadata": {},
   "outputs": [],
   "source": [
    "def output_markdown(results):\n",
    "    if len(results) == 0:\n",
    "        return\n",
    "    \n",
    "    print(\"|NO|所在书籍|所在章节|所在段落|\")\n",
    "    print(\"|--|--|--|--|\")\n",
    "    \n",
    "    for index, result in enumerate(results):\n",
    "        if len(result['volume_title']):\n",
    "            print(f\"|{index}|{result['book_title']}|{result['volume_title']}·{result['chapter_title']}|{result['content']}|\")\n",
    "        else:\n",
    "            print(f\"|{index}|{result['book_title']}|{result['chapter_title']}|{result['content']}|\")"
   ]
  },
  {
   "cell_type": "code",
   "execution_count": 20,
   "id": "d5ff02e4-e9f1-42fa-9bb9-d0024dcf112c",
   "metadata": {
    "tags": []
   },
   "outputs": [
    {
     "name": "stdout",
     "output_type": "stream",
     "text": [
      "搜索13本书籍，一共发现0个结果。\n",
      "\n"
     ]
    }
   ],
   "source": [
    "#query = \"not (大人 or 小人) and (君子)\"\n",
    "#query = \"大人 and 小人\"\n",
    "#query = \"君子 not (大人 or 小人)\"\n",
    "#query = \"君子 and not (大人 or 小人)\"\n",
    "query = \"拯马\"\n",
    "query = \"左股\"\n",
    "query = \"乘马\"\n",
    "query = \"右骖\" # 骈、骖、驷、騑、服\n",
    "query = \"大人\"\n",
    "#books = \"+诗经\" # +bookname+bookname, -bookname-bookname\n",
    "books = \"+诗经,周礼,尚书,逸周书,左传,公羊传,谷梁传,国语,战国策,竹书纪年,穆天子传,周易,易传\"\n",
    "query = \"布衣\"\n",
    "query = \"大人 and 小人 and 君子 and 圣人\" # 愚人 哲人 庶民 庶人 仕\n",
    "\n",
    "results, piececount, bookcount = querybooks(bookspath, query, books, limit = None)\n",
    "print(f\"搜索{bookcount}本书籍，一共发现{piececount}个结果。\\n\")\n",
    "\n",
    "#output(results)\n",
    "output_markdown(results)"
   ]
  },
  {
   "cell_type": "code",
   "execution_count": 16,
   "id": "191c80f4-71ef-4f82-a65e-c5fac7f02881",
   "metadata": {
    "tags": []
   },
   "outputs": [],
   "source": [
    "def checkQuery(querylist):\n",
    "    for q in querylist:\n",
    "        if isinstance(q, list):\n",
    "            print(f\"sub-query:\")\n",
    "            checkQuery(q)\n",
    "        else:\n",
    "            result = q.split(\" \")  # 以逗号或者空格为分隔符分割字符串\n",
    "            print(\"query: \" + \"/\".join(result))  # 输出结果为 ['apple', 'banana', 'cherry']\n",
    "    return True\n",
    "\n",
    "def queryParser(query):\n",
    "    _, querylist, _ = _parse_nestedbrackets_to_list(query)\n",
    "    \n",
    "    #querylist = querylist[1]\n",
    "    r = checkQuery(querylist)\n",
    "    if r == False:\n",
    "        print(f\"query: '{query}' is not a correctly query.\")\n",
    "        print(f\"error message: {r}.\")\n",
    "        return querylist\n",
    "    else:\n",
    "        return []"
   ]
  },
  {
   "cell_type": "code",
   "execution_count": 17,
   "id": "7ef2bbaa-8674-450e-a5f1-ff941b184429",
   "metadata": {},
   "outputs": [
    {
     "name": "stdout",
     "output_type": "stream",
     "text": [
      "inlcude, book: 周易 in booklist: ['易经', '周易', '诗经', '孙子兵法']\n"
     ]
    }
   ],
   "source": [
    "import re\n",
    "\n",
    "books = \"-易经+周易+诗经-油车还扯\"\n",
    "booklist = re.findall(\"[\\+｜-]\\w+\", books, re.I)\n",
    "if '-' in booklist:\n",
    "    print(\"易经 在booklist。\")\n",
    "\n",
    "books = \"+易经,周易,诗经,孙子兵法\"\n",
    "#books = None\n",
    "include = None\n",
    "if books is not None and books[0] == '+':\n",
    "    include = True\n",
    "elif books is not None and books[0] == '-':\n",
    "    include = False\n",
    "\n",
    "book = \"周易\"\n",
    "booklist = books[1:].split(\",\")\n",
    "if include == True:\n",
    "    if book in booklist:\n",
    "        print(f\"inlcude, book: {book} in booklist: {booklist}\")\n",
    "elif include == False:\n",
    "    if book in booklist:\n",
    "        print(f\"exlcude, book: {book} in booklist: {booklist}\")"
   ]
  },
  {
   "cell_type": "code",
   "execution_count": null,
   "id": "d46a4b3c-9f24-40a5-b42b-c3209b4c36ad",
   "metadata": {},
   "outputs": [],
   "source": []
  },
  {
   "cell_type": "code",
   "execution_count": null,
   "id": "b5b2516b-62dd-489f-ba85-ceca3d324495",
   "metadata": {},
   "outputs": [],
   "source": []
  }
 ],
 "metadata": {
  "kernelspec": {
   "display_name": "Python 3 (ipykernel)",
   "language": "python",
   "name": "python3"
  },
  "language_info": {
   "codemirror_mode": {
    "name": "ipython",
    "version": 3
   },
   "file_extension": ".py",
   "mimetype": "text/x-python",
   "name": "python",
   "nbconvert_exporter": "python",
   "pygments_lexer": "ipython3",
   "version": "3.10.12"
  }
 },
 "nbformat": 4,
 "nbformat_minor": 5
}
